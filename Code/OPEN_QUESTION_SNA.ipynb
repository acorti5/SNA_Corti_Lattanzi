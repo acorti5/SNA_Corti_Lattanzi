{
  "cells": [
    {
      "cell_type": "markdown",
      "metadata": {
        "id": "2VtSRHufHYK0"
      },
      "source": [
        "# Creating the Edgelist and Importing Data"
      ]
    },
    {
      "cell_type": "markdown",
      "source": [
        "C'era stata un'imprecisione nella creazione della edgelist pesata nell'altro script, devo ricreare la edgelist (non cambia l'analisi già svolta)"
      ],
      "metadata": {
        "id": "V50on08OmgE-"
      }
    },
    {
      "cell_type": "code",
      "source": [
        "'''\n",
        "# creating the edgelist (+- 17 min)\n",
        "\n",
        "# each node is a user that has posted at least one time in 2022\n",
        "\n",
        "# edges are defined as interaction in terms of comments under posts only\n",
        "\n",
        "import csv\n",
        "from google.colab import drive\n",
        "\n",
        "drive.mount('/content/gdrive')\n",
        "\n",
        "# input and output files\n",
        "input_file       = r\"/content/gdrive/MyDrive/dati_sna/comments_decimato_2022.csv\"\n",
        "submissions_file = r\"/content/gdrive/MyDrive/dati_sna/submissions_decimato_2022.csv\"\n",
        "output_file      = r\"/content/gdrive/MyDrive/dati_sna/edgelist_2022_weighted.csv\"\n",
        "\n",
        "# loading input file's rows (comments)\n",
        "rows = []\n",
        "with open(input_file, mode='r') as file:\n",
        "    csvreader = csv.reader(file)\n",
        "    next(csvreader)  # skipping first row\n",
        "    for row in csvreader:\n",
        "        # discarding deleted users\n",
        "        if row[0] != 'u/[deleted]':\n",
        "            rows.append(row)\n",
        "\n",
        "# loading sumbissions into a dictionary id-author\n",
        "sub_rows = []\n",
        "submissions_dict = {}\n",
        "with open(submissions_file, mode='r') as file:\n",
        "    csvreader = csv.reader(file)\n",
        "    next(csvreader) # skipping first row\n",
        "    for row in csvreader:\n",
        "        # discarding deleted users\n",
        "        if row[0] != 'u/[deleted]':\n",
        "            author, sub_id , title, score , created= row\n",
        "            submissions_dict[sub_id] = author\n",
        "            sub_rows.append(row)\n",
        "\n",
        "# lista delle coppie di autori con contatore di interazioni\n",
        "from collections import defaultdict\n",
        "author_pairs = defaultdict(int)\n",
        "\n",
        "i = 0\n",
        "\n",
        "# controlliamo se id (della submission) == parent_id_trimmed (del commento)\n",
        "for row in rows:\n",
        "    if len(row) == 6:\n",
        "        author, parent_id, comment_id, body, score, created = row\n",
        "        parent_id_trimmed = parent_id[3:] if len(parent_id) > 3 else parent_id\n",
        "\n",
        "    # se il commento è sotto una submission, aggiorniamo il conteggio\n",
        "    if parent_id_trimmed in submissions_dict:\n",
        "        author_submission = submissions_dict[parent_id_trimmed]\n",
        "        if i % 1000 == 0:\n",
        "            print(i, \"confronti fatti\")\n",
        "        i += 1\n",
        "        if author in submissions_dict.values():\n",
        "            author_pairs[(author, author_submission)] += 1  # Incrementa il conteggio\n",
        "\n",
        "# Scriviamo il risultato in un CSV includendo il numero di interazioni\n",
        "with open(output_file, mode='w', newline='') as file:\n",
        "    csvwriter = csv.writer(file)\n",
        "    csvwriter.writerow(['author1', 'author2', 'weight'])  # Aggiungiamo il peso\n",
        "    for (author1, author2), weight in author_pairs.items():\n",
        "        csvwriter.writerow([author1, author2, weight])\n",
        "\n",
        "print(f\"Lista di autori con pesi scritta in: {output_file}\")"
      ],
      "metadata": {
        "collapsed": true,
        "id": "3YlpLAtlmfr9"
      },
      "execution_count": null,
      "outputs": []
    },
    {
      "cell_type": "markdown",
      "metadata": {
        "id": "wj7R5ncPPeNT"
      },
      "source": [
        "This script creates 3 different edgelists (graph, graph_weigthed, graph_weigthed_directed).\n",
        "\n",
        "This also loads the data computed in the LLAMA script."
      ]
    },
    {
      "cell_type": "code",
      "execution_count": null,
      "metadata": {
        "id": "u41bguSgFiSB"
      },
      "outputs": [],
      "source": [
        "%%capture\n",
        "# importing libraries\n",
        "!pip install networkx\n",
        "import networkx as nx\n",
        "import warnings\n",
        "import pandas as pd\n",
        "import numpy as np\n",
        "import matplotlib.pyplot as plt\n",
        "from google.colab import drive\n",
        "warnings.filterwarnings('ignore')\n",
        "\n",
        "# loading the edgelist from the cloud\n",
        "drive.mount('/content/gdrive')\n",
        "%matplotlib inline\n",
        "\n",
        "# Caricare il CSV in un DataFrame\n",
        "csv_path = \"/content/gdrive/MyDrive/dati_sna/edgelist_2022_weighted.csv\"\n",
        "df = pd.read_csv(csv_path)\n",
        "\n",
        "### Creazione del Grafo Pesato ###\n",
        "graph_weighted = nx.from_pandas_edgelist(df, source=\"author1\", target=\"author2\", edge_attr=\"weight\", create_using=nx.Graph())\n",
        "\n",
        "### Creazione del Grafo Non Pesato ###\n",
        "graph = nx.from_pandas_edgelist(df, source=\"author1\", target=\"author2\", create_using=nx.Graph())\n",
        "\n",
        "### Creazione del Grafo Diretto ###\n",
        "graph_directed = nx.from_pandas_edgelist(df, source=\"author1\", target=\"author2\", create_using=nx.DiGraph())\n",
        "\n",
        "# importing data\n",
        "veg_titles   = pd.read_csv(\"/content/gdrive/MyDrive/dati_sna/veg_titles_2022.csv\"  ) # vegetarian/omnivorous\n",
        "sweet_titles = pd.read_csv(\"/content/gdrive/MyDrive/dati_sna/sweet_titles_2022.csv\") # sweet/savoury\n",
        "tag_titles   = pd.read_csv(\"/content/gdrive/MyDrive/dati_sna/tag_titles_2022.csv\"  ) # [i ate]/[homemade]/[pro/chef]"
      ]
    },
    {
      "cell_type": "markdown",
      "metadata": {
        "id": "W1yCcDdns6PI"
      },
      "source": [
        "# Datasets Preprocessing"
      ]
    },
    {
      "cell_type": "markdown",
      "metadata": {
        "id": "nKLpMMjRs_L0"
      },
      "source": [
        "We want to make a standardized version of the extracted data to simplify further analysis. This script creates a dataset where the only possible values in the classification section are vegetarian/omnivorous/unknown"
      ]
    },
    {
      "cell_type": "code",
      "execution_count": null,
      "metadata": {
        "colab": {
          "base_uri": "https://localhost:8080/"
        },
        "id": "QThe2Lres5wi",
        "outputId": "f7ff2212-3aff-40e3-90dd-5c30e15441c6"
      },
      "outputs": [
        {
          "output_type": "stream",
          "name": "stdout",
          "text": [
            "File aggiornato con successo e salvato come /content/gdrive/MyDrive/dati_sna/veg_titles_2022_cleaned.csv!\n"
          ]
        }
      ],
      "source": [
        "import pandas as pd\n",
        "\n",
        "def clean_classification(input_csv, output_csv):\n",
        "    # Carica il CSV\n",
        "    df = pd.read_csv(input_csv)\n",
        "\n",
        "    # Definisce le classificazioni valide (in minuscolo per confronto)\n",
        "    valid_classifications = {\"vegetarian\", \"omnivorous\"}\n",
        "\n",
        "    # Normalizza i valori a minuscolo e sostituisce quelli non validi con \"UNKNOWN\"\n",
        "    df[\"classification\"] = df[\"classification\"].str.lower().apply(lambda x: x if x in valid_classifications else \"unknown\")\n",
        "\n",
        "    # Salva il file modificato in un nuovo file\n",
        "    df.to_csv(output_csv, index=False)\n",
        "    print(f\"File aggiornato con successo e salvato come {output_csv}!\")\n",
        "\n",
        "# Esempio di utilizzo\n",
        "clean_classification(\"/content/gdrive/MyDrive/dati_sna/veg_titles_2022.csv\", \"/content/gdrive/MyDrive/dati_sna/veg_titles_2022_cleaned.csv\")\n"
      ]
    },
    {
      "cell_type": "markdown",
      "metadata": {
        "id": "pbSAHdxkv8AC"
      },
      "source": [
        "Same thing as above for the sweet/savory"
      ]
    },
    {
      "cell_type": "code",
      "execution_count": null,
      "metadata": {
        "colab": {
          "base_uri": "https://localhost:8080/"
        },
        "id": "nWQbYASPwExQ",
        "outputId": "d2acfef5-9f5e-43e2-cc74-941c5ae1bbd4"
      },
      "outputs": [
        {
          "output_type": "stream",
          "name": "stdout",
          "text": [
            "File aggiornato con successo e salvato come /content/gdrive/MyDrive/dati_sna/sweet_titles_2022_cleaned.csv!\n"
          ]
        }
      ],
      "source": [
        "import pandas as pd\n",
        "\n",
        "def clean_classification(input_csv, output_csv):\n",
        "    # Carica il CSV\n",
        "    df = pd.read_csv(input_csv)\n",
        "\n",
        "    # Definisce le classificazioni valide (in minuscolo per confronto)\n",
        "    valid_classifications = {\"sweet\", \"savory\"}\n",
        "\n",
        "    # Normalizza i valori a minuscolo e sostituisce quelli non validi con \"UNKNOWN\"\n",
        "    df[\"classification\"] = df[\"classification\"].str.lower().apply(lambda x: x if x in valid_classifications else \"unknown\")\n",
        "\n",
        "    # Salva il file modificato in un nuovo file\n",
        "    df.to_csv(output_csv, index=False)\n",
        "    print(f\"File aggiornato con successo e salvato come {output_csv}!\")\n",
        "\n",
        "# Esempio di utilizzo\n",
        "clean_classification(\"/content/gdrive/MyDrive/dati_sna/sweet_titles_2022.csv\", \"/content/gdrive/MyDrive/dati_sna/sweet_titles_2022_cleaned.csv\")\n"
      ]
    },
    {
      "cell_type": "markdown",
      "source": [
        "For the ethnic classification we have to first analyze which nations are classified by the LLM"
      ],
      "metadata": {
        "id": "DtydhZ6eCZXS"
      }
    },
    {
      "cell_type": "code",
      "source": [
        "import pandas as pd\n",
        "from google.colab import drive\n",
        "\n",
        "# loading the edgelist from the cloud\n",
        "drive.mount('/content/gdrive')\n",
        "# Percorso del file CSV\n",
        "file_path = \"/content/gdrive/MyDrive/dati_sna/ethnic_titles_2022.csv\"\n",
        "\n",
        "# Leggere il file CSV\n",
        "df = pd.read_csv(file_path)\n",
        "\n",
        "# Contare le occorrenze di ogni classificazione\n",
        "classification_counts = df[\"classification\"].value_counts()\n",
        "\n",
        "# Stampare le classificazioni con il numero di occorrenze\n",
        "for classification, count in classification_counts.items():\n",
        "    print(f\"{classification}: {count}\")"
      ],
      "metadata": {
        "colab": {
          "base_uri": "https://localhost:8080/"
        },
        "collapsed": true,
        "id": "hw1zSsrwCodb",
        "outputId": "32d43765-a785-479a-bce7-a4833895f16d"
      },
      "execution_count": null,
      "outputs": [
        {
          "output_type": "stream",
          "name": "stdout",
          "text": [
            "Drive already mounted at /content/gdrive; to attempt to forcibly remount, call drive.mount(\"/content/gdrive\", force_remount=True).\n",
            "American: 27780\n",
            "Chinese: 17189\n",
            "French: 8513\n",
            "Italian: 5769\n",
            "Mexican: 2553\n",
            "Japanese: 2211\n",
            "Middle: 2111\n",
            "British: 1676\n",
            "-: 1069\n",
            "Indian: 1003\n",
            "Greek: 972\n",
            "Korean: 885\n",
            "German: 721\n",
            "(no: 715\n",
            "Unknown: 594\n",
            "[American]: 515\n",
            "Spanish: 398\n",
            "Vietnamese: 382\n",
            "(Note:: 355\n",
            "Asian: 302\n",
            "#: 277\n",
            "[Chinese]: 240\n",
            "Southern: 226\n",
            "Russian: 226\n",
            "Caribbean: 216\n",
            "Hawaiian: 180\n",
            "Various: 177\n",
            "African: 174\n",
            "Fruit: 168\n",
            "Brazilian: 165\n",
            "[French]: 164\n",
            "Turkish: 159\n",
            "Polish: 144\n",
            "I: 144\n",
            "Jewish: 141\n",
            "Latin: 136\n",
            "Irish: 134\n",
            "Southeast: 125\n",
            "Australian: 123\n",
            "Thai: 121\n",
            "Fruit-based: 120\n",
            "Canadian: 109\n",
            "Swedish: 109\n",
            "[Italian]: 105\n",
            "Other: 98\n",
            "Not: 96\n",
            "Filipino: 85\n",
            "(No: 84\n",
            "[homemade: 81\n",
            "Scottish: 79\n",
            "Seafood: 75\n",
            "British/Scott: 75\n",
            "Portuguese: 75\n",
            "No: 72\n",
            "Peruvian: 67\n",
            "Hungarian: 66\n",
            "Dutch: 62\n",
            "British/English: 62\n",
            "British/: 62\n",
            "[Middle: 58\n",
            "(I: 57\n",
            "[Homemade: 55\n",
            "I'm: 53\n",
            "Scandinavian: 50\n",
            "South: 49\n",
            "Georgian: 49\n",
            "(American): 48\n",
            "European: 46\n",
            "BBQ: 39\n",
            "Unknown/Other: 39\n",
            "(Not: 39\n",
            "[no: 38\n",
            "#Chinese: 37\n",
            "(This: 36\n",
            "[Indian]: 36\n",
            "(note:: 36\n",
            "Vegan: 35\n",
            "Vegetarian: 35\n",
            "1st: 35\n",
            "Chocolate: 35\n",
            "Ukrainian: 35\n",
            "Breakfast: 33\n",
            "British,: 32\n",
            "Bread: 31\n",
            "Ethiopian: 31\n",
            "Belgian: 30\n",
            "(this: 30\n",
            "Fish: 29\n",
            "Swiss: 29\n",
            "Jamaican: 28\n",
            "(not: 28\n",
            "Cuban: 27\n",
            "[Chocolate]: 27\n",
            "(I'm: 26\n",
            "Unknown/: 25\n",
            "[Unknown]: 25\n",
            "German/: 24\n",
            "Louisiana: 24\n",
            "[Mexican: 23\n",
            "[Note:: 23\n",
            "Mediterranean: 21\n",
            "Puerto: 20\n",
            "Persian: 20\n",
            "[Greek]: 20\n",
            "[Spanish]: 19\n",
            "no: 18\n",
            "2: 18\n",
            "unknown: 17\n",
            "Cajun: 17\n",
            "seafood: 17\n",
            "3rd: 17\n",
            "Unknown/Non: 17\n",
            "Multiple: 17\n",
            "[Japanese]: 16\n",
            "[Latin: 16\n",
            "Argentine: 15\n",
            "(French): 15\n",
            "(: 14\n",
            "Romanian: 14\n",
            "3: 14\n",
            "British/Indian: 14\n",
            "Czech: 14\n",
            "Balkan: 14\n",
            "3D: 13\n",
            "(a: 13\n",
            "[Baked: 13\n",
            "Southern,: 13\n",
            "Unknown/Not: 13\n",
            "[Seafood: 12\n",
            "Vegetarian/: 12\n",
            "[No: 12\n",
            "Iranian: 12\n",
            "[no]: 12\n",
            "Danish: 11\n",
            "#American: 11\n",
            "[Other]: 11\n",
            "Gluten-free: 11\n",
            "1.: 11\n",
            "[: 11\n",
            "[Fried: 11\n",
            "[I: 11\n",
            "Austrian: 11\n",
            "Norwegian: 11\n",
            "Spicy: 11\n",
            "17th: 10\n",
            "Eastern: 10\n",
            "5: 10\n",
            "???: 10\n",
            "BBQ/: 10\n",
            "German/Pol: 10\n",
            "**Chinese**: 10\n",
            "**American**: 10\n",
            "Colombian: 10\n",
            "2nd: 9\n",
            "Indian/Chinese: 9\n",
            "Chicken: 9\n",
            "Native: 9\n",
            "[Bread: 9\n",
            "This: 9\n",
            "Nordic: 8\n",
            "0: 8\n",
            "#Indian: 8\n",
            "Health: 8\n",
            "[German]: 8\n",
            "100%: 8\n",
            "1): 8\n",
            "Unknown/Un: 8\n",
            "[Not: 8\n",
            "20th: 8\n",
            "[unknown]: 8\n",
            "Italian/: 8\n",
            "3/4: 8\n",
            "[Fish]: 8\n",
            "19th: 8\n",
            "Sri: 7\n",
            "[Fusion: 7\n",
            "British/Canadian: 7\n",
            "Fruit/: 7\n",
            "Cake: 7\n",
            "70%: 7\n",
            "Cajun/: 7\n",
            "German/Italian: 7\n",
            "Banglades: 7\n",
            "(Chocolate: 7\n",
            "British/Sc: 7\n",
            "Beef: 7\n",
            "Breakfast/: 6\n",
            "Hawaiian/Pacific: 6\n",
            "Scottish,: 6\n",
            "[not: 6\n",
            "Australian/: 6\n",
            "Various,: 6\n",
            "Unknown/Personal: 6\n",
            "Indian/: 6\n",
            "[Faux: 6\n",
            "Salvadoran: 6\n",
            "African/Car: 6\n",
            "Egyptian: 6\n",
            "(fruit-based: 6\n",
            "Central: 6\n",
            "Unknown/Unknown: 6\n",
            "(empty: 6\n",
            "Pacific: 6\n",
            "[Tex-M: 5\n",
            "Unknown/Chinese: 5\n",
            "Japanese/Chinese: 5\n",
            "German/Sc: 5\n",
            "[European]: 5\n",
            "[Chocolate: 5\n",
            "[Spicy: 5\n",
            "Icelandic: 5\n",
            "[Various]: 5\n",
            "80s/: 5\n",
            "#Italian: 5\n",
            "[Asian]: 5\n",
            "(no): 5\n",
            "(Chocolate): 5\n",
            "iced: 5\n",
            "(Middle: 5\n",
            "Southern/: 5\n",
            "-Chinese: 5\n",
            "Tex-Mex: 5\n",
            "Indonesian: 5\n",
            "Fruit-based,: 5\n",
            "Unknown/International: 5\n",
            "Unknown/General: 5\n",
            "[Hungarian: 5\n",
            "**Spanish**: 5\n",
            "Other,: 4\n",
            "Chilean: 4\n",
            "Gluten-free,: 4\n",
            "Spicy,: 4\n",
            "**French**: 4\n",
            "BBQ/Gr: 4\n",
            "None,: 4\n",
            "#Middle: 4\n",
            "[PRO/C: 4\n",
            "1/2: 4\n",
            "Cannabis-infused: 4\n",
            "[Fruit: 4\n",
            "Nigerian: 4\n",
            "420: 4\n",
            "Cheese: 4\n",
            "5-star: 4\n",
            "British/French: 4\n",
            "Serbian: 4\n",
            "[i: 4\n",
            "[British]: 4\n",
            "[Baking: 4\n",
            "British/Chinese: 4\n",
            "1: 4\n",
            "[Medit: 4\n",
            "[Grilled: 4\n",
            "[No]: 4\n",
            "BBQ,: 4\n",
            "Hawaiian,: 4\n",
            "Arabic: 4\n",
            "North: 4\n",
            "????: 4\n",
            "Pakistani: 4\n",
            "various: 4\n",
            "[Braised: 4\n",
            "[Bulg: 4\n",
            "[Wild: 3\n",
            "British/Italian: 3\n",
            "Nepalese: 3\n",
            "Unknown/Experimental: 3\n",
            "Jewish/: 3\n",
            "[not]: 3\n",
            "Lithuanian: 3\n",
            "4: 3\n",
            "(assuming: 3\n",
            "Italian/Chinese: 3\n",
            "50/50: 3\n",
            "Bosnian: 3\n",
            "Cake,: 3\n",
            "Unknown/Und: 3\n",
            "[Southeast: 3\n",
            "Ancient: 3\n",
            "1950s: 3\n",
            "[Mong: 3\n",
            "Vegetarian,: 3\n",
            "1/4: 3\n",
            "[Pro/: 3\n",
            "Srilankan: 3\n",
            "21st: 3\n",
            "Australian/New: 3\n",
            "New: 3\n",
            "fruit-based: 3\n",
            "[Polish: 3\n",
            "vegan: 3\n",
            "(North: 3\n",
            "(Greek): 3\n",
            "Vegan/Plant: 3\n",
            "Louisiana/Cre: 3\n",
            "Macedonian: 3\n",
            "30: 3\n",
            "Hawaiian/Asian: 3\n",
            "British/Traditional: 3\n",
            "Armenian: 3\n",
            "Maple: 3\n",
            "Tibetan: 3\n",
            "24: 3\n",
            "(can't: 3\n",
            "1st/: 3\n",
            "Chocolate,: 3\n",
            "Dutch/: 3\n",
            "Australian/Asian: 3\n",
            "Green: 3\n",
            "5th: 3\n",
            "[South: 3\n",
            "Italian/Italian: 3\n",
            "Gluten: 3\n",
            "African,: 3\n",
            "Paleo: 3\n",
            "ube: 3\n",
            "Brazilian/Port: 3\n",
            "[I'm: 3\n",
            "[Simplified: 3\n",
            "[Cub: 3\n",
            "Unknown/Italian: 2\n",
            "[None]: 2\n",
            "A: 2\n",
            "5-course: 2\n",
            "[Garden: 2\n",
            "possibly: 2\n",
            "Christmas: 2\n",
            "(Ethi: 2\n",
            "4th: 2\n",
            "#French: 2\n",
            "(Chinese): 2\n",
            "American/: 2\n",
            "[Foc: 2\n",
            "[Breakfast: 2\n",
            "Germanic: 2\n",
            "1920s: 2\n",
            "Australian/Ind: 2\n",
            "(Spanish): 2\n",
            "త�: 2\n",
            "Albanian: 2\n",
            "(Tamil: 2\n",
            "(Cub: 2\n",
            "British/Asian: 2\n",
            "Other/Und: 2\n",
            "90%: 2\n",
            "Turkmen: 2\n",
            "Afghan: 2\n",
            "Sikkim: 2\n",
            "Health/General: 2\n",
            "Colorful: 2\n",
            "(same: 2\n",
            "Gulf: 2\n",
            "(European): 2\n",
            "(technically: 2\n",
            "Caribbean/Indian: 2\n",
            "[Russian]: 2\n",
            "Nepali: 2\n",
            "Japanese,: 2\n",
            "Foodie: 2\n",
            "(Finn: 2\n",
            "Caribbean/Is: 2\n",
            "[butter: 2\n",
            "[I]: 2\n",
            "Fijian: 2\n",
            "Halloween-themed: 2\n",
            "[bread]: 2\n",
            "Ghanaian: 2\n",
            "72: 2\n",
            "(can: 2\n",
            "British/White: 2\n",
            "2/3: 2\n",
            "Indigenous: 2\n",
            "Irish/Scott: 2\n",
            "(Could: 2\n",
            "(American/: 2\n",
            "Jamaican/: 2\n",
            "Fresh: 2\n",
            "Louisiana/: 2\n",
            "[Bacon: 2\n",
            "Taiwanese: 2\n",
            "General/: 2\n",
            "5.: 2\n",
            "Hawaiian/Pol: 2\n",
            "(Indian): 2\n",
            "iberian: 2\n",
            "Newfoundland: 2\n",
            "Vegan,: 2\n",
            "100: 2\n",
            "Vegan/Chinese: 2\n",
            "(Sansk: 2\n",
            "(deer: 2\n",
            "[Fer: 2\n",
            "(Unknown): 2\n",
            "16\": 2\n",
            "Grilled: 2\n",
            "Fruitcake: 2\n",
            "FRENCH: 2\n",
            "British/UK: 2\n",
            "#Japanese: 2\n",
            "Indian,: 2\n",
            "த�: 2\n",
            "(any: 2\n",
            "(Russian): 2\n",
            "AI-generated: 2\n",
            "Slavic: 2\n",
            "none: 2\n",
            "[random]: 2\n",
            "Coffee: 2\n",
            "Caribbean/Tr: 2\n",
            "Latvian: 2\n",
            "Jewish/He: 2\n",
            "5-Ingredient: 2\n",
            "2020: 2\n",
            "Dessert: 2\n",
            "[Balk: 2\n",
            "(Chocolate,: 2\n",
            "Scottish/: 2\n",
            "[Not]: 2\n",
            "Swiss/French: 2\n",
            "-French: 2\n",
            "Italian-American: 2\n",
            "[English]: 2\n",
            "[vegetarian: 2\n",
            "Keto: 2\n",
            "Roman: 2\n",
            "Persian,: 2\n",
            "[Unknown/: 2\n",
            "[Surf: 2\n",
            "3-4: 2\n",
            "Guyanese: 2\n",
            "not: 2\n",
            "-American: 2\n",
            "48: 2\n",
            "(Bread: 1\n",
            "Brazilian/Per: 1\n",
            "[Huli: 1\n",
            "Israeli: 1\n",
            "[Slam: 1\n",
            "(Nutella: 1\n",
            "[Clam: 1\n",
            "Singaporean: 1\n",
            "Dominican: 1\n",
            "80/20: 1\n",
            "80%: 1\n",
            "[Canadian]: 1\n",
            "Meat: 1\n",
            "Unknown/None: 1\n",
            "Smoked: 1\n",
            "lacto-: 1\n",
            "unknown/: 1\n",
            "[Fish: 1\n",
            "Other/Unknown: 1\n",
            "gluten-free: 1\n",
            "[Coffee]: 1\n",
            "[Fishing: 1\n",
            "Valencian: 1\n",
            "Texas/: 1\n",
            "Cookies,: 1\n",
            "Southern/Cre: 1\n",
            "Mesoamerican: 1\n",
            "ube-based: 1\n",
            "Wisconsin: 1\n",
            "Speculoos: 1\n",
            "[Liber: 1\n",
            "ube,: 1\n",
            "Balkan/: 1\n",
            "(Japanese): 1\n",
            "[Mixology: 1\n",
            "unknown/other: 1\n",
            "bread: 1\n",
            "Breakfast/Br: 1\n",
            "(possibly: 1\n",
            "Tunisian: 1\n",
            "(Chocolate-based: 1\n",
            "General: 1\n",
            "UK: 1\n",
            "30-Day: 1\n",
            "[Chur: 1\n",
            "30-minute: 1\n",
            "**Japanese**: 1\n",
            "Himalayan: 1\n",
            "Unknown/No: 1\n",
            "(Bisi: 1\n",
            "10: 1\n",
            "fruit/fruit: 1\n",
            "Croatian: 1\n",
            "**No,: 1\n",
            "Fruit/Gr: 1\n",
            "(Scandin: 1\n",
            "Ecuadorian: 1\n",
            "Unknown/other: 1\n",
            "30-Day-: 1\n",
            "Maryland: 1\n",
            "D&D: 1\n",
            "Caribbean/His: 1\n",
            "[Dess: 1\n",
            "420-friendly,: 1\n",
            "2-Min: 1\n",
            "[Filip: 1\n",
            "Moroccan: 1\n",
            "[Nutrition: 1\n",
            "17-year-old: 1\n",
            "[Organic: 1\n",
            "Canadian/Indian: 1\n",
            "Creole: 1\n",
            "Fruit/Chocolate: 1\n",
            "Caucasus: 1\n",
            "Maine: 1\n",
            "Dutch/Sc: 1\n",
            "2M: 1\n",
            "20's: 1\n",
            "3-Che: 1\n",
            "Beef,: 1\n",
            "Caribbean/Chinese: 1\n",
            "Global: 1\n",
            "70s: 1\n",
            "[Faj: 1\n",
            "#Mong: 1\n",
            "(empty): 1\n",
            "0,: 1\n",
            "1/5: 1\n",
            "18\": 1\n",
            "(unclass: 1\n",
            "Australian,: 1\n",
            "Hawaiian/Is: 1\n",
            "Canadian,: 1\n",
            "50: 1\n",
            "2nd/: 1\n",
            "#grilled: 1\n",
            "(Ukr: 1\n",
            "Seafood,: 1\n",
            "[Aray: 1\n",
            "2016: 1\n",
            "“French”: 1\n",
            "(None): 1\n",
            "CHINESE: 1\n",
            "Somali: 1\n",
            "127.5: 1\n",
            "Fruit/Pres: 1\n",
            "(Frog: 1\n",
            "German,: 1\n",
            "Chilean/: 1\n",
            "[Ethi: 1\n",
            "16mm: 1\n",
            "[Autumn: 1\n",
            "[Vegan: 1\n",
            "doesn't: 1\n",
            "3-cheese: 1\n",
            "12oz: 1\n",
            "Iced: 1\n",
            "**Other**: 1\n",
            "Spanish/Port: 1\n",
            "1000: 1\n",
            "9-year-old: 1\n",
            "**Keto: 1\n",
            "[Home-made: 1\n",
            "48hr: 1\n",
            "Oyster: 1\n",
            "[Pron: 1\n",
            "Medieval: 1\n",
            "13: 1\n",
            "Yiddish: 1\n",
            "Malaysian: 1\n",
            "[chocolate: 1\n",
            "Mushroom: 1\n",
            "Florida,: 1\n",
            "[Italian-American: 1\n",
            "Meat/ethnic: 1\n",
            "[Miso: 1\n",
            "[Champ: 1\n",
            "Mexican/Chinese: 1\n",
            "(unknown): 1\n",
            "German/Am: 1\n",
            "[Blackstone: 1\n",
            "[Korean: 1\n",
            "[White/C: 1\n",
            "**Fish**: 1\n",
            "ube/purple: 1\n",
            "(Christmas): 1\n",
            "[NASA: 1\n",
            "Turkish/Middle: 1\n",
            "[breakfast: 1\n",
            "Turkey: 1\n",
            "2024’: 1\n",
            "Christmas/: 1\n",
            "2023: 1\n",
            "Organic,: 1\n",
            "(made: 1\n",
            "48h: 1\n",
            "Spanish/Mex: 1\n",
            "2018: 1\n",
            "#Chocolate: 1\n",
            "45-60: 1\n",
            "[Foreign]: 1\n",
            "Christmas,: 1\n",
            "(Coffee: 1\n",
            "Italian/Sea: 1\n",
            "Self-sufficient: 1\n",
            "[Photography: 1\n",
            "Czech/Mex: 1\n",
            "urchin: 1\n",
            "Chocolate-Dipped: 1\n",
            "#Philippines: 1\n",
            "[Cup: 1\n",
            "Veggie: 1\n",
            "Southwestern/: 1\n",
            "(Italian): 1\n",
            "[Indian,: 1\n",
            "Burmese: 1\n",
            "Unknown/Regional: 1\n",
            "Science: 1\n",
            "Venezuelan: 1\n",
            "Louisiana,: 1\n",
            "**Nutrition: 1\n",
            "Washington: 1\n",
            "3-Cuisine: 1\n",
            "3-Dimensional: 1\n",
            "ume: 1\n",
            "Welsh: 1\n",
            "18th: 1\n",
            "Alaska: 1\n",
            "Alaskan: 1\n",
            "Spanish/: 1\n",
            "Frenchie: 1\n",
            "Halloween/Che: 1\n",
            "#jordan: 1\n",
            "German/Chocolate: 1\n",
            "(Smoke: 1\n",
            "[Green]: 1\n",
            "Halloween-themed,: 1\n",
            "Slovenian: 1\n",
            "(Nutrit: 1\n",
            "2000: 1\n",
            "(food): 1\n",
            "German-Style: 1\n",
            "Other/Not: 1\n",
            "[Pro]: 1\n",
            "[Jap: 1\n",
            "[Cock: 1\n",
            "1.3: 1\n",
            "(Gorg: 1\n",
            "1.5: 1\n",
            "[Lemb: 1\n",
            "20: 1\n",
            "[Philipp: 1\n",
            "**Indian**: 1\n",
            "2020:: 1\n",
            "Italian,: 1\n",
            "fall,: 1\n",
            "(chocolate: 1\n",
            "Unknown/Ex: 1\n",
            "5-4: 1\n",
            "20-minute: 1\n",
            "Vampire-themed: 1\n",
            "(Swedish: 1\n",
            "**Cultural: 1\n",
            "Braised: 1\n",
            "6: 1\n",
            "420-adj: 1\n",
            "1970s: 1\n",
            "1/: 1\n",
            "Southern/Car: 1\n",
            "36mo: 1\n",
            "Gluten-Free: 1\n",
            "Vegan/: 1\n",
            "self-care: 1\n",
            "Bohemian: 1\n",
            "[Bik: 1\n",
            "Ancient/Traditional: 1\n",
            "18”: 1\n",
            "Czech/Pol: 1\n",
            "Indian/Mex: 1\n",
            "[P]: 1\n",
            "[Almond: 1\n",
            "Black: 1\n",
            "[Wild]: 1\n",
            "[Salsa: 1\n",
            "Paraguayan: 1\n",
            "(Fish): 1\n",
            "cocktails: 1\n",
            "Unknown/Ind: 1\n",
            "Fruit/ve: 1\n",
            "5/5: 1\n",
            "Indian/Pak: 1\n",
            "[Mashed: 1\n",
            "Irish/: 1\n",
            "I'd: 1\n",
            "Dutch/Ind: 1\n",
            "[baked: 1\n",
            "మ�: 1\n",
            "utoob: 1\n",
            "Asian-style: 1\n",
            "Canadian/Pe: 1\n",
            "Italian/French: 1\n",
            "50th: 1\n",
            "46: 1\n",
            "General/Universal: 1\n",
            "(Fish-based: 1\n",
            "(there: 1\n",
            "**Dess: 1\n",
            "5-ingredient: 1\n",
            "[Health: 1\n",
            "[Pacific]: 1\n",
            "(European,: 1\n",
            "Unknown/possibly: 1\n",
            "[hamburger: 1\n",
            "[Pasta: 1\n",
            "50%: 1\n",
            "Azerbaijan: 1\n",
            "20s: 1\n",
            "**Cuisine: 1\n",
            "[Business]: 1\n",
            "13.: 1\n",
            "[Mand: 1\n",
            "-New: 1\n",
            "Belarusian: 1\n",
            "Bangladesh: 1\n",
            "#Fagg: 1\n",
            "British/American: 1\n",
            "ക: 1\n",
            "(no,: 1\n",
            "[Plant-based: 1\n",
            "2022: 1\n",
            "Algerian: 1\n",
            "3-Ingredient: 1\n",
            "mexican: 1\n",
            "Western: 1\n",
            "Japanese/Asian: 1\n",
            "British/Port: 1\n",
            "English: 1\n",
            "Asian/Chinese: 1\n",
            "shellfish: 1\n",
            "21-day: 1\n",
            "Caribbean/: 1\n",
            "(Global): 1\n",
            "(Georg: 1\n",
            "Turkish/French: 1\n",
            "[New: 1\n",
            "[Scamp: 1\n",
            "(Fusion: 1\n",
            "African/: 1\n",
            "(also: 1\n",
            "10th: 1\n",
            "0/10: 1\n",
            "4:30: 1\n",
            "Ashkenazi: 1\n",
            "Mushroom-based,: 1\n",
            "Italian/Ch: 1\n",
            "Venezuela: 1\n",
            "[Food: 1\n",
            "Pokémon: 1\n",
            "8.5: 1\n",
            "4/5: 1\n",
            "fruit/ve: 1\n",
            "3.14: 1\n",
            "π: 1\n",
            "West: 1\n",
            "[local]: 1\n",
            "HTML5: 1\n",
            "[various: 1\n",
            "Health-related: 1\n",
            "3rd-: 1\n",
            "#Not: 1\n",
            "[Fiction: 1\n",
            "[Croat: 1\n",
            "Caribbean,: 1\n",
            "seafood,: 1\n",
            "ই�: 1\n",
            "#foodtruck: 1\n",
            "বা�: 1\n",
            "[HOMEM: 1\n",
            "Oklahoma,: 1\n",
            "ట�: 1\n",
            "ജ: 1\n",
            "అ�: 1\n",
            "5-Star: 1\n",
            "[Blank]: 1\n",
            "[pro/ch: 1\n",
            "Coconut: 1\n",
            "2nd-gen: 1\n",
            "2005: 1\n",
            "Brazilian/French: 1\n",
            "Costa: 1\n",
            "**Fusion: 1\n",
            "[Smash: 1\n",
            "(Bih: 1\n",
            "Australian/English: 1\n",
            "**Note:**: 1\n",
            "[Food]: 1\n",
            "#Pizza: 1\n",
            "2-Course: 1\n",
            "[Nutritional: 1\n",
            "സ: 1\n",
            "[honey: 1\n",
            "[Sushi: 1\n",
            "1940s: 1\n",
            "British/International: 1\n",
            "Surf: 1\n",
            "Baked: 1\n",
            "30days: 1\n",
            "0/0: 1\n",
            "[Honey: 1\n",
            "Szechuan: 1\n",
            "Fantasy: 1\n",
            "You: 1\n",
            "45: 1\n",
            "(Korean: 1\n",
            "German/Chinese: 1\n",
            "[Bagel: 1\n",
            "[New]: 1\n",
            "(chicken: 1\n",
            "ச�: 1\n",
            "[Turkish: 1\n",
            "German/Asian: 1\n",
            "Meat/BB: 1\n",
            "2015: 1\n",
            "[Pacific: 1\n",
            "[Venez: 1\n",
            "2.5: 1\n",
            "Cheeseburger,: 1\n",
            "Ște: 1\n",
            "German/Sw: 1\n",
            "5-Min: 1\n",
            "[wood: 1\n",
            "Bread,: 1\n",
            "**FREN: 1\n",
            "[fish]: 1\n",
            "[Bors: 1\n",
            "(fruit: 1\n",
            "(Argentine: 1\n",
            "[Norwegian: 1\n",
            "Pescatar: 1\n",
            "(Hungarian: 1\n",
            "Roman/Greek: 1\n",
            "28oz: 1\n",
            "30+: 1\n",
            "30's: 1\n",
            "[Flavor: 1\n",
            "420,: 1\n",
            "18: 1\n",
            "Dairy-free,: 1\n",
            "No,: 1\n",
            "24KT: 1\n",
            "Moldavian: 1\n",
            "Chilac: 1\n",
            "Game: 1\n",
            "24k: 1\n",
            "27,: 1\n",
            "Other/unknown: 1\n",
            "Vegan/Indian: 1\n",
            "[Chicken]: 1\n",
            "12-step: 1\n",
            "2/: 1\n",
            "Breakfast-: 1\n",
            "#.scal: 1\n",
            "50+: 1\n",
            "80's: 1\n",
            "4chan: 1\n",
            "4.: 1\n",
            "“Basic: 1\n",
            "24oz: 1\n",
            "(Jewish: 1\n",
            "[Fancy: 1\n",
            "Paleo/Pre: 1\n",
            "30th: 1\n",
            "(Chor: 1\n",
            "Fruit/General: 1\n",
            "3.5: 1\n",
            "[Sic: 1\n",
            "Thanksgiving: 1\n",
            "**Cakes: 1\n",
            "2/5: 1\n",
            "2%: 1\n",
            "Haitian: 1\n",
            "iberico,: 1\n",
            "(e.g: 1\n",
            "Canned: 1\n",
            "Fruit,: 1\n",
            "#Foodie: 1\n",
            "Fish/Sea: 1\n",
            "5-year-old: 1\n",
            "[Lag: 1\n",
            "Faux: 1\n",
            "(Surf: 1\n",
            "[varies: 1\n",
            "F: 1\n",
            "80’s,: 1\n",
            "24-Hour: 1\n",
            "(Any: 1\n",
            "(any): 1\n",
            "Argentinian: 1\n",
            "I'll: 1\n",
            "Catalan: 1\n",
            "[Mango: 1\n",
            "800g: 1\n",
            "German/Fran: 1\n",
            "2.: 1\n",
            "(Just: 1\n",
            "[Foraged: 1\n",
            "#Greek: 1\n",
            "(American,: 1\n",
            "**Middle: 1\n",
            "Cocktails: 1\n",
            "Canada: 1\n",
            "(Polish: 1\n",
            "[OC]: 1\n",
            "24hr.: 1\n",
            "**Italian**: 1\n",
            "Nordic/Sc: 1\n",
            "[Pro/C: 1\n",
            "Finnish: 1\n",
            "**Cul: 1\n",
            "Mexican/Italian: 1\n",
            "\"American\": 1\n",
            "4-Che: 1\n",
            "Sikkimes: 1\n",
            "Navajo: 1\n",
            "2-3: 1\n",
            "*: 1\n",
            "[Mush: 1\n"
          ]
        }
      ]
    },
    {
      "cell_type": "markdown",
      "source": [
        "Adjusting ambiguous classifications and filtering manually the bad classifications"
      ],
      "metadata": {
        "id": "7gCjMvX2onMy"
      }
    },
    {
      "cell_type": "code",
      "source": [
        "import pandas as pd\n",
        "import re\n",
        "from google.colab import drive\n",
        "\n",
        "# Caricare Google Drive\n",
        "drive.mount('/content/gdrive')\n",
        "\n",
        "# Percorso del file CSV di origine\n",
        "file_path = \"/content/gdrive/MyDrive/dati_sna/ethnic_titles_2022.csv\"\n",
        "# Percorso del file CSV di destinazione\n",
        "output_path = \"/content/gdrive/MyDrive/dati_sna/ethnic_titles_2022_cleaned.csv\"\n",
        "\n",
        "# Leggere il file CSV\n",
        "df = pd.read_csv(file_path)\n",
        "\n",
        "# Definire le classificazioni da mantenere, considerate le classificazioni per almeno 10 post\n",
        "valid_classifications = [\"American\", \"Chinese\", \"French\", \"Italian\", \"Mexican\", \"Japanese\", \"Middle\",\n",
        "                         \"British\", \"Indian\", \"Greek\", \"Korean\", \"German\", \"Spanish\", \"Vietnamese\",\n",
        "                         \"Asian\", \"Russian\", \"Caribbean\", \"Hawaiian\", \"African\", \"Brazilian\", \"Turkish\",\n",
        "                         \"Polish\", \"Jewish\", \"Latin\", \"Irish\", \"Southeast\", \"Australian\", \"Thai\", \"Canadian\",\n",
        "                         \"Swedish\", \"Filipino\", \"Scottish\", \"Portuguese\", \"Peruvian\", \"Hungarian\", \"Dutch\",\n",
        "                         \"Scandinavian\", \"Georgian\", \"Ukrainian\", \"Ethiopian\", \"Belgian\", \"Swiss\", \"Jamaican\",\n",
        "                         \"Cuban\", \"Persian\", \"Argentine\", \"Romanian\", \"Czech\", \"Iranian\", \"Danish\",\n",
        "                         \"Austrian\", \"Norwegian\", \"Colombian\"]\n",
        "\n",
        "# Funzione per rimuovere le parentesi quadre\n",
        "def clean_classification(classification):\n",
        "    if isinstance(classification, str):  # Verifica che sia una stringa\n",
        "        return re.sub(r'\\[|\\]', '', classification)\n",
        "    return \"unknown\"  # Se non è una stringa, sostituiscilo con \"unknown\"\n",
        "\n",
        "# Applicare la funzione di pulizia\n",
        "df[\"classification\"] = df[\"classification\"].apply(clean_classification)\n",
        "\n",
        "# Sostituire le classificazioni non presenti nella lista con \"unknown\"\n",
        "df[\"classification\"] = df[\"classification\"].apply(lambda x: x if x in valid_classifications else \"unknown\")\n",
        "\n",
        "# Salvare il nuovo file CSV\n",
        "df.to_csv(output_path, index=False)\n",
        "\n",
        "print(f\"File salvato in {output_path}\")"
      ],
      "metadata": {
        "colab": {
          "base_uri": "https://localhost:8080/"
        },
        "id": "ngiprWHYEs5_",
        "outputId": "116e5381-596e-4264-9277-ef259d359f64"
      },
      "execution_count": null,
      "outputs": [
        {
          "output_type": "stream",
          "name": "stdout",
          "text": [
            "Drive already mounted at /content/gdrive; to attempt to forcibly remount, call drive.mount(\"/content/gdrive\", force_remount=True).\n",
            "File salvato in /content/gdrive/MyDrive/dati_sna/ethnic_titles_2022_cleaned.csv\n"
          ]
        }
      ]
    },
    {
      "cell_type": "code",
      "source": [
        "import pandas as pd\n",
        "from google.colab import drive\n",
        "\n",
        "# loading the edgelist from the cloud\n",
        "drive.mount('/content/gdrive')\n",
        "# Percorso del file CSV\n",
        "file_path = \"/content/gdrive/MyDrive/dati_sna/ethnic_titles_2022_cleaned.csv\"\n",
        "\n",
        "# Leggere il file CSV\n",
        "df = pd.read_csv(file_path)\n",
        "\n",
        "# Contare le occorrenze di ogni classificazione\n",
        "classification_counts = df[\"classification\"].value_counts()\n",
        "i=0\n",
        "# Stampare le classificazioni con il numero di occorrenze\n",
        "for classification, count in classification_counts.items():\n",
        "    print(f\"{classification}: {count}\")\n",
        "    i=i+1\n",
        "\n",
        "print(\"\\nNumber of ethnicities (at least 10 posts):\", i)"
      ],
      "metadata": {
        "colab": {
          "base_uri": "https://localhost:8080/"
        },
        "id": "2eFzRswWtGWf",
        "outputId": "c3a2fa3c-7c4d-40f0-f313-15124cb69ba9"
      },
      "execution_count": null,
      "outputs": [
        {
          "output_type": "stream",
          "name": "stdout",
          "text": [
            "Drive already mounted at /content/gdrive; to attempt to forcibly remount, call drive.mount(\"/content/gdrive\", force_remount=True).\n",
            "American: 28295\n",
            "Chinese: 17429\n",
            "French: 8677\n",
            "unknown: 7937\n",
            "Italian: 5874\n",
            "Mexican: 2576\n",
            "Japanese: 2227\n",
            "Middle: 2169\n",
            "British: 1680\n",
            "Indian: 1039\n",
            "Greek: 992\n",
            "Korean: 886\n",
            "German: 729\n",
            "Spanish: 417\n",
            "Vietnamese: 382\n",
            "Asian: 307\n",
            "Russian: 228\n",
            "Caribbean: 216\n",
            "Hawaiian: 180\n",
            "African: 174\n",
            "Brazilian: 165\n",
            "Turkish: 160\n",
            "Latin: 152\n",
            "Polish: 147\n",
            "Jewish: 141\n",
            "Irish: 134\n",
            "Southeast: 128\n",
            "Australian: 123\n",
            "Thai: 121\n",
            "Canadian: 110\n",
            "Swedish: 109\n",
            "Filipino: 85\n",
            "Scottish: 79\n",
            "Portuguese: 75\n",
            "Hungarian: 71\n",
            "Peruvian: 67\n",
            "Dutch: 62\n",
            "Scandinavian: 50\n",
            "Georgian: 49\n",
            "Ukrainian: 35\n",
            "Ethiopian: 31\n",
            "Belgian: 30\n",
            "Swiss: 29\n",
            "Jamaican: 28\n",
            "Cuban: 27\n",
            "Persian: 20\n",
            "Argentine: 15\n",
            "Romanian: 14\n",
            "Czech: 14\n",
            "Iranian: 12\n",
            "Norwegian: 12\n",
            "Danish: 11\n",
            "Austrian: 11\n",
            "Colombian: 10\n",
            "\n",
            "Number of ethnicities (at least 10 posts): 54\n"
          ]
        }
      ]
    },
    {
      "cell_type": "markdown",
      "metadata": {
        "id": "thh0eetzNvkf"
      },
      "source": [
        "# Vegetarian/Omnivorous Analysis"
      ]
    },
    {
      "cell_type": "markdown",
      "metadata": {
        "id": "tJUw5-urw6yn"
      },
      "source": [
        "## Labeling Nodes"
      ]
    },
    {
      "cell_type": "markdown",
      "metadata": {
        "id": "KRpxFmzvvZAf"
      },
      "source": [
        "Labeling each node, with a majority rule of posted contents, in vegetarian/omnivorous/unknown"
      ]
    },
    {
      "cell_type": "code",
      "execution_count": null,
      "metadata": {
        "id": "d_B_IKAfr7ej"
      },
      "outputs": [],
      "source": [
        "import networkx as nx\n",
        "import pandas as pd\n",
        "from collections import Counter\n",
        "\n",
        "# Carica il CSV\n",
        "df = pd.read_csv(\"/content/gdrive/MyDrive/dati_sna/veg_titles_2022_cleaned.csv\")\n",
        "\n",
        "# Troviamo tutte le componenti connesse\n",
        "components = list(nx.connected_components(graph_weighted))\n",
        "\n",
        "# Troviamo la componente connessa più grande\n",
        "largest_component = max(components, key=len)\n",
        "\n",
        "# Creiamo un nuovo grafo contenente solo la componente più grande (preservando i pesi)\n",
        "G = graph_weighted.subgraph(largest_component).copy()\n",
        "\n",
        "# Crea un dizionario che mappa ogni autore alla classificazione basata su tutte le sue etichette\n",
        "author_labels = {}\n",
        "for author, group in df.groupby(\"author\"):\n",
        "    label_counts = Counter(group[\"classification\"])  # Conta quante volte compaiono vegetarian/omnivorous\n",
        "\n",
        "    veg_count = label_counts.get(\"vegetarian\", 0)\n",
        "    omni_count = label_counts.get(\"omnivorous\", 0)\n",
        "\n",
        "    # Se il numero di vegetariani è uguale a quello degli omnivori, l'etichetta sarà 'unknown'\n",
        "    if veg_count == omni_count and veg_count > 0:  # Se sono uguali e > 0 → 'unknown'\n",
        "        author_labels[author] = \"unknown\"\n",
        "    else:\n",
        "        # Altrimenti, assegna l'etichetta più frequente\n",
        "        most_common_label = max(label_counts, key=label_counts.get)\n",
        "        author_labels[author] = most_common_label\n",
        "\n",
        "# Assegna le etichette ai nodi del grafo\n",
        "to_remove = []  # Per rimuovere eventuali nodi non presenti nel CSV\n",
        "for node in G.nodes:\n",
        "    if node in author_labels:\n",
        "        G.nodes[node][\"label\"] = author_labels[node]\n",
        "    else:\n",
        "        to_remove.append(node)\n",
        "\n",
        "# Rimuovi nodi che non hanno etichetta\n",
        "G.remove_nodes_from(to_remove)"
      ]
    },
    {
      "cell_type": "markdown",
      "metadata": {
        "id": "rT7h6RSrhRoj"
      },
      "source": [
        "Performing label propagation in order to classify the unknown nodes"
      ]
    },
    {
      "cell_type": "code",
      "execution_count": null,
      "metadata": {
        "colab": {
          "base_uri": "https://localhost:8080/"
        },
        "id": "W8UfErhphakX",
        "outputId": "18375e44-a8f6-4b20-a4f2-e441f3b08fed"
      },
      "outputs": [
        {
          "output_type": "stream",
          "name": "stdout",
          "text": [
            "Tutti i nodi hanno etichette valide.\n"
          ]
        }
      ],
      "source": [
        "import networkx as nx\n",
        "import random\n",
        "\n",
        "def label_propagation(G, max_iter=10):\n",
        "    for _ in range(max_iter):\n",
        "        for node in G.nodes:\n",
        "            if G.nodes[node]['label'] == 'unknown':\n",
        "                neighbor_labels = [G.nodes[n]['label'] for n in G.neighbors(node) if G.nodes[n]['label'] != 'unknown']\n",
        "                if neighbor_labels:\n",
        "                    # Assegna la label più frequente tra i vicini\n",
        "                    G.nodes[node]['label'] = max(set(neighbor_labels), key=neighbor_labels.count)\n",
        "\n",
        "# Applicare la propagazione delle etichette\n",
        "label_propagation(G)\n",
        "\n",
        "valid_labels = {\"vegetarian\", \"omnivorous\"}\n",
        "\n",
        "# Estrai tutte le etichette dei nodi\n",
        "node_labels = set(nx.get_node_attributes(G, 'label').values())\n",
        "\n",
        "# Controlla se ci sono solo le etichette attese\n",
        "if node_labels.issubset(valid_labels):\n",
        "    print(\"Tutti i nodi hanno etichette valide.\")\n",
        "else:\n",
        "    print(\"Ci sono etichette non valide:\", node_labels - valid_labels)\n"
      ]
    },
    {
      "cell_type": "code",
      "source": [
        "import networkx as nx\n",
        "import csv\n",
        "\n",
        "def save_graph_labels(G, filename):\n",
        "\n",
        "    with open(filename, mode='w', newline='', encoding='utf-8') as file:\n",
        "        writer = csv.writer(file)\n",
        "        writer.writerow([\"Node\", \"Label\"])  # Column headers\n",
        "\n",
        "        for node, data in G.nodes(data=True):\n",
        "            label = data.get(\"label\", \"\")  # Get label if it exists, otherwise empty string\n",
        "            writer.writerow([node, label])\n",
        "\n",
        "\n",
        "save_graph_labels(G, \"/content/gdrive/MyDrive/dati_sna/veg_nodes_labeled.csv\")"
      ],
      "metadata": {
        "id": "8kwa3Uomsp7V"
      },
      "execution_count": null,
      "outputs": []
    },
    {
      "cell_type": "markdown",
      "metadata": {
        "id": "LKsmMaT2xG8c"
      },
      "source": [
        "## Centrality analysis"
      ]
    },
    {
      "cell_type": "markdown",
      "source": [
        "Degree centrality vs labels"
      ],
      "metadata": {
        "id": "hcijHMBPyQYc"
      }
    },
    {
      "cell_type": "code",
      "execution_count": null,
      "metadata": {
        "colab": {
          "base_uri": "https://localhost:8080/"
        },
        "id": "Sp_s8HUmxZ-H",
        "outputId": "dbe3dbc8-1782-4ae6-8df9-04580f5f1c49"
      },
      "outputs": [
        {
          "output_type": "stream",
          "name": "stdout",
          "text": [
            "Distribuzione etichette tra i nodi più centrali:\n",
            "vegetarian: 62\n",
            "omnivorous: 38\n"
          ]
        }
      ],
      "source": [
        "# Calcola metriche di centralità\n",
        "centrality = nx.degree_centrality(G)\n",
        "\n",
        "# Analizza la distribuzione delle etichette tra i nodi più centrali\n",
        "sorted_centrality = sorted(centrality.items(), key=lambda x: x[1], reverse=True)\n",
        "\n",
        "# Conta le etichette nei 10 utenti più influenti\n",
        "label_counts = Counter(G.nodes[node]['label'] for node, _ in sorted_centrality[:100]) # Varying this number we consider the k highest degree centrality nodes\n",
        "\n",
        "#for node, score in sorted_centrality[:10]:  # Considera i 10 utenti più influenti\n",
        "    #print(f\"Autore: {node}, Centralità: {score}, Etichetta: {G.nodes[node]['label']}\")\n",
        "\n",
        "print(\"Distribuzione etichette tra i nodi più centrali:\")\n",
        "for label, count in label_counts.items():\n",
        "    print(f\"{label}: {count}\")"
      ]
    },
    {
      "cell_type": "markdown",
      "source": [
        "When we use the majority rule to label the nodes the number of omnivorous and vegetarians is balanced, in the version based on strictly vegetarians the majority of users is considered to be omnivorous but still in the same order of magnitude"
      ],
      "metadata": {
        "id": "7D-8UxsOkdQ0"
      }
    },
    {
      "cell_type": "markdown",
      "source": [
        "Assortativity"
      ],
      "metadata": {
        "id": "PhUn-mx0wLQ1"
      }
    },
    {
      "cell_type": "code",
      "source": [
        "import networkx as nx\n",
        "\n",
        "def calculate_diet_assortativity(G):\n",
        "    \"\"\"\n",
        "    Calcola l'assortatività del grafo G basata sull'etichetta dei nodi (\"vegetarian\" o \"omnivorous\").\n",
        "\n",
        "    Parametri:\n",
        "        G (networkx.Graph): Grafo con nodi che hanno già un'etichetta come attributo.\n",
        "\n",
        "    Ritorna:\n",
        "        float: Valore dell'assortatività\n",
        "    \"\"\"\n",
        "\n",
        "    # Controlliamo che i nodi abbiano l'attributo 'label'\n",
        "    if not all(\"label\" in G.nodes[n] for n in G.nodes):\n",
        "        raise ValueError(\"Tutti i nodi devono avere un'etichetta 'label' ('vegetarian' o 'omnivorous').\")\n",
        "\n",
        "    # Rinominiamo l'attributo 'label' in 'diet' per calcolare l'assortatività\n",
        "    nx.set_node_attributes(G, {n: G.nodes[n][\"label\"] for n in G.nodes}, \"diet\")\n",
        "\n",
        "    # Calcoliamo l'assortatività rispetto alla dieta\n",
        "    assortativity = nx.attribute_assortativity_coefficient(G, \"diet\")\n",
        "\n",
        "    return assortativity\n",
        "\n",
        "\n",
        "\n",
        "# Calcoliamo l'assortatività\n",
        "assortativity = calculate_diet_assortativity(G)\n",
        "\n",
        "# Stampiamo il risultato\n",
        "print(f\"Assortatività rispetto alla dieta: {assortativity:.3f}\")"
      ],
      "metadata": {
        "colab": {
          "base_uri": "https://localhost:8080/"
        },
        "id": "0nA0mw34wtNP",
        "outputId": "e4ef97dc-2c2a-4a81-8023-1b34d11aa80f"
      },
      "execution_count": null,
      "outputs": [
        {
          "output_type": "stream",
          "name": "stdout",
          "text": [
            "Assortatività rispetto alla dieta: 0.123\n"
          ]
        }
      ]
    },
    {
      "cell_type": "markdown",
      "source": [
        "Diet modularity"
      ],
      "metadata": {
        "id": "eWoFhsO7ykpk"
      }
    },
    {
      "cell_type": "code",
      "source": [
        "import networkx as nx\n",
        "import networkx.algorithms.community as nx_comm\n",
        "\n",
        "def calculate_diet_modularity(G):\n",
        "    \"\"\"\n",
        "    Calcola la modularità del grafo rispetto alla dieta.\n",
        "    \"\"\"\n",
        "    # Creiamo le comunità in base alla dieta\n",
        "    vegetarian_nodes = {n for n in G.nodes if G.nodes[n][\"label\"] == \"vegetarian\"}\n",
        "    omnivorous_nodes = {n for n in G.nodes if G.nodes[n][\"label\"] == \"omnivorous\"}\n",
        "\n",
        "    communities = [vegetarian_nodes, omnivorous_nodes]\n",
        "\n",
        "    # Calcoliamo la modularità\n",
        "    return nx_comm.modularity(G, communities)\n",
        "\n",
        "# computing and printing out\n",
        "modularity = calculate_diet_modularity(G)\n",
        "print(f\"Modularità rispetto alla dieta: {modularity:.3f}\")"
      ],
      "metadata": {
        "colab": {
          "base_uri": "https://localhost:8080/"
        },
        "id": "HObtWUPGyb2G",
        "outputId": "182314e4-a137-4b7a-dc50-5762f2eb7de2"
      },
      "execution_count": null,
      "outputs": [
        {
          "output_type": "stream",
          "name": "stdout",
          "text": [
            "Modularità rispetto alla dieta: 0.092\n"
          ]
        }
      ]
    },
    {
      "cell_type": "markdown",
      "source": [
        "Valori di assortatività e modularità così bassi suggeriscono che non avviene una distinzione netta tra i due gruppi, almeno sono entrambi positivi. Da provare andando a selezionare i vegetariani sulla SOLA presenza di cibi veg e non sulla majority rule (provato e sia assortatività che modularità sono più basse, 0.041 e 0.029)."
      ],
      "metadata": {
        "id": "7giVmwvqy50D"
      }
    },
    {
      "cell_type": "code",
      "source": [
        "import networkx as nx\n",
        "\n",
        "def homophily_by_label(G):\n",
        "    \"\"\"\n",
        "    Calcola l'omofilia basata sulle etichette di un grafo G.\n",
        "    \"\"\"\n",
        "    same_label_edges = 0\n",
        "    total_edges = 0\n",
        "\n",
        "    for u, v, data in G.edges(data=True):\n",
        "        total_edges += 1\n",
        "        if G.nodes[u]['label'] == G.nodes[v]['label']:\n",
        "            same_label_edges += 1\n",
        "\n",
        "    return same_label_edges / total_edges if total_edges > 0 else 0\n",
        "\n",
        "\n",
        "def weighted_homophily(G):\n",
        "    \"\"\"\n",
        "    Calcola l'omofilia ponderata basata sulle etichette di un grafo G.\n",
        "    \"\"\"\n",
        "    same_label_weighted_edges = 0\n",
        "    total_weighted_edges = 0\n",
        "\n",
        "    for u, v, data in G.edges(data=True):\n",
        "        weight = data.get('weight', 1)  # Se non c'è peso, assume 1\n",
        "        total_weighted_edges += weight\n",
        "        if G.nodes[u]['label'] == G.nodes[v]['label']:\n",
        "            same_label_weighted_edges += weight\n",
        "\n",
        "    return same_label_weighted_edges / total_weighted_edges if total_weighted_edges > 0 else 0\n",
        "\n",
        "# Calcola l'omofilia basata sulle etichette\n",
        "omofilia_etichetta = homophily_by_label(G)\n",
        "print(f\"Omofilia basata sulle etichette: {omofilia_etichetta:.2f}\")\n",
        "\n",
        "# Calcola l'omofilia ponderata\n",
        "omofilia_ponderata = weighted_homophily(G)\n",
        "print(f\"Omofilia ponderata: {omofilia_ponderata:.2f}\")"
      ],
      "metadata": {
        "colab": {
          "base_uri": "https://localhost:8080/"
        },
        "id": "H8WlunR1BxxD",
        "outputId": "17929ef4-4e23-4954-d23c-d5021ca520c5"
      },
      "execution_count": null,
      "outputs": [
        {
          "output_type": "stream",
          "name": "stdout",
          "text": [
            "Omofilia basata sulle etichette: 0.61\n",
            "Omofilia ponderata: 0.63\n"
          ]
        }
      ]
    },
    {
      "cell_type": "markdown",
      "source": [
        "# Sweet/Savoury Analysis"
      ],
      "metadata": {
        "id": "wpFQ0wjalpcG"
      }
    },
    {
      "cell_type": "markdown",
      "metadata": {
        "id": "3bVwworkl4NG"
      },
      "source": [
        "## Labeling Nodes"
      ]
    },
    {
      "cell_type": "markdown",
      "metadata": {
        "id": "tBxnyRnMl4NH"
      },
      "source": [
        "Labeling each node, with a majority rule of posted contents, in sweet/savory/unknown"
      ]
    },
    {
      "cell_type": "code",
      "execution_count": null,
      "metadata": {
        "id": "otDwh1DAl4NH"
      },
      "outputs": [],
      "source": [
        "import networkx as nx\n",
        "import pandas as pd\n",
        "from collections import Counter\n",
        "\n",
        "df = pd.read_csv(\"/content/gdrive/MyDrive/dati_sna/sweet_titles_2022_cleaned.csv\")\n",
        "\n",
        "# Troviamo tutte le componenti connesse\n",
        "components = list(nx.connected_components(graph))\n",
        "\n",
        "# Troviamo la componente connessa più grande\n",
        "largest_component = max(components, key=len)\n",
        "\n",
        "# Ora possiamo creare un nuovo grafo che contenga solo la componente più grande\n",
        "G = graph.subgraph(largest_component).copy()\n",
        "\n",
        "\n",
        "# Crea un dizionario che mappa ogni autore alla classificazione più frequente\n",
        "author_labels = {}\n",
        "for author, group in df.groupby(\"author\"):\n",
        "    most_common_label = Counter(group[\"classification\"]).most_common(1)[0][0]\n",
        "    author_labels[author] = most_common_label\n",
        "\n",
        "\n",
        "# Assegna le etichette ai nodi\n",
        "to_remove = []  # Per rimuovere eventuali nodi non presenti nel CSV\n",
        "for node in G.nodes:\n",
        "    if node in author_labels:\n",
        "        G.nodes[node][\"label\"] = author_labels[node]\n",
        "    else:\n",
        "        to_remove.append(node)"
      ]
    },
    {
      "cell_type": "markdown",
      "metadata": {
        "id": "SdfjqGrzl4NI"
      },
      "source": [
        "Performing label propagation in order to classify the unknown nodes"
      ]
    },
    {
      "cell_type": "code",
      "execution_count": null,
      "metadata": {
        "colab": {
          "base_uri": "https://localhost:8080/"
        },
        "outputId": "336fc20d-f7e8-4719-8fe4-3f5f45581d07",
        "id": "JoO-6o8sl4NI"
      },
      "outputs": [
        {
          "output_type": "stream",
          "name": "stdout",
          "text": [
            "Tutti i nodi hanno etichette valide.\n"
          ]
        }
      ],
      "source": [
        "import networkx as nx\n",
        "import random\n",
        "\n",
        "def label_propagation(G, max_iter=10):\n",
        "    for _ in range(max_iter):\n",
        "        for node in G.nodes:\n",
        "            if G.nodes[node]['label'] == 'unknown':\n",
        "                neighbor_labels = [G.nodes[n]['label'] for n in G.neighbors(node) if G.nodes[n]['label'] != 'unknown']\n",
        "                if neighbor_labels:\n",
        "                    # Assegna la label più frequente tra i vicini\n",
        "                    G.nodes[node]['label'] = max(set(neighbor_labels), key=neighbor_labels.count)\n",
        "\n",
        "# Applicare la propagazione delle etichette\n",
        "label_propagation(G)\n",
        "\n",
        "valid_labels = {\"sweet\", \"savory\"}\n",
        "\n",
        "# Estrai tutte le etichette dei nodi\n",
        "node_labels = set(nx.get_node_attributes(G, 'label').values())\n",
        "\n",
        "# Controlla se ci sono solo le etichette attese\n",
        "if node_labels.issubset(valid_labels):\n",
        "    print(\"Tutti i nodi hanno etichette valide.\")\n",
        "else:\n",
        "    print(\"Ci sono etichette non valide:\", node_labels - valid_labels)\n"
      ]
    },
    {
      "cell_type": "code",
      "source": [
        "import networkx as nx\n",
        "import csv\n",
        "\n",
        "def save_graph_labels(G, filename):\n",
        "\n",
        "    with open(filename, mode='w', newline='', encoding='utf-8') as file:\n",
        "        writer = csv.writer(file)\n",
        "        writer.writerow([\"Node\", \"Label\"])  # Column headers\n",
        "\n",
        "        for node, data in G.nodes(data=True):\n",
        "            label = data.get(\"label\", \"\")  # Get label if it exists, otherwise empty string\n",
        "            writer.writerow([node, label])\n",
        "\n",
        "\n",
        "save_graph_labels(G, \"/content/gdrive/MyDrive/dati_sna/swe_nodes_labeled.csv\")"
      ],
      "metadata": {
        "id": "OuRQAcymuEUU"
      },
      "execution_count": null,
      "outputs": []
    },
    {
      "cell_type": "markdown",
      "metadata": {
        "id": "sBk008dvl4NL"
      },
      "source": [
        "## Centrality analysis"
      ]
    },
    {
      "cell_type": "markdown",
      "source": [
        "Degree centrality vs labels"
      ],
      "metadata": {
        "id": "fTAQggP2l4NP"
      }
    },
    {
      "cell_type": "code",
      "execution_count": null,
      "metadata": {
        "colab": {
          "base_uri": "https://localhost:8080/"
        },
        "outputId": "6192aacd-5dbb-40bd-9973-d1e126c89f7d",
        "id": "52hwS0gpl4NP"
      },
      "outputs": [
        {
          "output_type": "stream",
          "name": "stdout",
          "text": [
            "Distribuzione etichette tra i nodi più centrali:\n",
            "savory: 924\n",
            "sweet: 76\n"
          ]
        }
      ],
      "source": [
        "# Calcola metriche di centralità\n",
        "centrality = nx.degree_centrality(G)\n",
        "\n",
        "# Analizza la distribuzione delle etichette tra i nodi più centrali\n",
        "sorted_centrality = sorted(centrality.items(), key=lambda x: x[1], reverse=True)\n",
        "\n",
        "# Conta le etichette nei 10 utenti più influenti\n",
        "label_counts = Counter(G.nodes[node]['label'] for node, _ in sorted_centrality[:1000]) # Varying this number we consider the k highest degree centrality nodes\n",
        "\n",
        "#for node, score in sorted_centrality[:10]:  # Considera i 10 utenti più influenti\n",
        "    #print(f\"Autore: {node}, Centralità: {score}, Etichetta: {G.nodes[node]['label']}\")\n",
        "\n",
        "print(\"Distribuzione etichette tra i nodi più centrali:\")\n",
        "for label, count in label_counts.items():\n",
        "    print(f\"{label}: {count}\")"
      ]
    },
    {
      "cell_type": "markdown",
      "source": [
        "The number of sweet users is more or less one order of magnitude lower than the savory ones."
      ],
      "metadata": {
        "id": "LatI-Qc9l4NQ"
      }
    },
    {
      "cell_type": "markdown",
      "source": [
        "Assortativity"
      ],
      "metadata": {
        "id": "wWY8_IH1l4NR"
      }
    },
    {
      "cell_type": "code",
      "source": [
        "import networkx as nx\n",
        "\n",
        "def calculate_diet_assortativity(G):\n",
        "    \"\"\"\n",
        "    Calcola l'assortatività del grafo G basata sull'etichetta dei nodi (\"vegetarian\" o \"omnivorous\").\n",
        "\n",
        "    Parametri:\n",
        "        G (networkx.Graph): Grafo con nodi che hanno già un'etichetta come attributo.\n",
        "\n",
        "    Ritorna:\n",
        "        float: Valore dell'assortatività\n",
        "    \"\"\"\n",
        "\n",
        "    # Controlliamo che i nodi abbiano l'attributo 'label'\n",
        "    if not all(\"label\" in G.nodes[n] for n in G.nodes):\n",
        "        raise ValueError(\"Tutti i nodi devono avere un'etichetta 'label' ('sweet' o 'savory').\")\n",
        "\n",
        "    # Rinominiamo l'attributo 'label' in 'diet' per calcolare l'assortatività\n",
        "    nx.set_node_attributes(G, {n: G.nodes[n][\"label\"] for n in G.nodes}, \"diet\")\n",
        "\n",
        "    # Calcoliamo l'assortatività rispetto alla dieta\n",
        "    assortativity = nx.attribute_assortativity_coefficient(G, \"diet\")\n",
        "\n",
        "    return assortativity\n",
        "\n",
        "\n",
        "\n",
        "# Calcoliamo l'assortatività\n",
        "assortativity = calculate_diet_assortativity(G)\n",
        "\n",
        "# Stampiamo il risultato\n",
        "print(f\"Assortatività rispetto alla dieta: {assortativity:.3f}\")"
      ],
      "metadata": {
        "colab": {
          "base_uri": "https://localhost:8080/"
        },
        "outputId": "98e096b9-be9a-4083-b5f3-a26d81402f8e",
        "id": "kRoKRpO1l4NR"
      },
      "execution_count": null,
      "outputs": [
        {
          "output_type": "stream",
          "name": "stdout",
          "text": [
            "Assortatività rispetto alla dieta: 0.088\n"
          ]
        }
      ]
    },
    {
      "cell_type": "markdown",
      "source": [
        "Diet modularity"
      ],
      "metadata": {
        "id": "Iwlcz0YJl4NS"
      }
    },
    {
      "cell_type": "code",
      "source": [
        "import networkx as nx\n",
        "import networkx.algorithms.community as nx_comm\n",
        "\n",
        "def calculate_diet_modularity(G):\n",
        "    \"\"\"\n",
        "    Calcola la modularità del grafo rispetto alla dieta.\n",
        "    \"\"\"\n",
        "    # Creiamo le comunità in base alla dieta\n",
        "    sweet_nodes = {n for n in G.nodes if G.nodes[n][\"label\"] == \"sweet\"}\n",
        "    savory_nodes = {n for n in G.nodes if G.nodes[n][\"label\"] == \"savory\"}\n",
        "\n",
        "    communities = [sweet_nodes, savory_nodes]\n",
        "\n",
        "    # Calcoliamo la modularità\n",
        "    return nx_comm.modularity(G, communities)\n",
        "\n",
        "# computing and printing out\n",
        "modularity = calculate_diet_modularity(G)\n",
        "print(f\"Modularità rispetto alla dieta: {modularity:.3f}\")"
      ],
      "metadata": {
        "colab": {
          "base_uri": "https://localhost:8080/"
        },
        "outputId": "2b90373f-2c9e-4439-c0ae-119eace873ed",
        "id": "zCvbTlmLl4NT"
      },
      "execution_count": null,
      "outputs": [
        {
          "output_type": "stream",
          "name": "stdout",
          "text": [
            "Modularità rispetto alla dieta: 0.020\n"
          ]
        }
      ]
    },
    {
      "cell_type": "code",
      "source": [
        "import networkx as nx\n",
        "\n",
        "def homophily_by_label(G):\n",
        "    \"\"\"\n",
        "    Calcola l'omofilia basata sulle etichette di un grafo G.\n",
        "    \"\"\"\n",
        "    same_label_edges = 0\n",
        "    total_edges = 0\n",
        "\n",
        "    for u, v, data in G.edges(data=True):\n",
        "        total_edges += 1\n",
        "        if G.nodes[u]['label'] == G.nodes[v]['label']:\n",
        "            same_label_edges += 1\n",
        "\n",
        "    return same_label_edges / total_edges if total_edges > 0 else 0\n",
        "\n",
        "\n",
        "def weighted_homophily(G):\n",
        "    \"\"\"\n",
        "    Calcola l'omofilia ponderata basata sulle etichette di un grafo G.\n",
        "    \"\"\"\n",
        "    same_label_weighted_edges = 0\n",
        "    total_weighted_edges = 0\n",
        "\n",
        "    for u, v, data in G.edges(data=True):\n",
        "        weight = data.get('weight', 1)  # Se non c'è peso, assume 1\n",
        "        total_weighted_edges += weight\n",
        "        if G.nodes[u]['label'] == G.nodes[v]['label']:\n",
        "            same_label_weighted_edges += weight\n",
        "\n",
        "    return same_label_weighted_edges / total_weighted_edges if total_weighted_edges > 0 else 0\n",
        "\n",
        "# Calcola l'omofilia basata sulle etichette\n",
        "omofilia_etichetta = homophily_by_label(G)\n",
        "print(f\"Omofilia basata sulle etichette: {omofilia_etichetta:.2f}\")\n",
        "\n",
        "# Calcola l'omofilia ponderata\n",
        "omofilia_ponderata = weighted_homophily(G)\n",
        "print(f\"Omofilia ponderata: {omofilia_ponderata:.2f}\")"
      ],
      "metadata": {
        "colab": {
          "base_uri": "https://localhost:8080/"
        },
        "id": "4g3IMj2jB_zX",
        "outputId": "d44cad37-b95a-4924-a97a-843e219819d3"
      },
      "execution_count": null,
      "outputs": [
        {
          "output_type": "stream",
          "name": "stdout",
          "text": [
            "Omofilia basata sulle etichette: 0.87\n",
            "Omofilia ponderata: 0.87\n"
          ]
        }
      ]
    },
    {
      "cell_type": "markdown",
      "source": [
        "# [i ate], [homemade], [pro/chef]"
      ],
      "metadata": {
        "id": "3Ljh3ExTnTWb"
      }
    },
    {
      "cell_type": "markdown",
      "source": [],
      "metadata": {
        "id": "lk54rqWqnqKu"
      }
    },
    {
      "cell_type": "markdown",
      "metadata": {
        "id": "dfzToy15nqe0"
      },
      "source": [
        "## Labeling Nodes"
      ]
    },
    {
      "cell_type": "markdown",
      "source": [
        "Replacing each istance of [pro/chef] into [homemade] since the recipes are still handmade and in order to maintain a binary classification for further analysis"
      ],
      "metadata": {
        "id": "C743c2vatuIW"
      }
    },
    {
      "cell_type": "markdown",
      "metadata": {
        "id": "AXP94qfGnqe1"
      },
      "source": [
        "Labeling each node, with a majority rule of posted contents, in sweet/savory/unknown"
      ]
    },
    {
      "cell_type": "code",
      "execution_count": null,
      "metadata": {
        "id": "rkT5tfLBnqe2",
        "colab": {
          "base_uri": "https://localhost:8080/"
        },
        "outputId": "14048b59-f897-496d-9c87-5b1c83f596e7"
      },
      "outputs": [
        {
          "output_type": "stream",
          "name": "stdout",
          "text": [
            "Nodi con label 2: []\n"
          ]
        }
      ],
      "source": [
        "import networkx as nx\n",
        "import pandas as pd\n",
        "from collections import Counter\n",
        "\n",
        "df = pd.read_csv(\"/content/gdrive/MyDrive/dati_sna/tag_titles_2022.csv\")\n",
        "\n",
        "# Sostituisci \"UNKNOWN\" con un valore nullo (NaN)\n",
        "df[\"classification\"] = df[\"classification\"].replace(\"UNKNOWN\", pd.NA)\n",
        "\n",
        "# Converte i valori numerici in interi, ignorando gli NaN\n",
        "df[\"classification\"] = pd.to_numeric(df[\"classification\"], errors=\"coerce\")\n",
        "\n",
        "# Sostituisci tutti i 2 con 1\n",
        "df[\"classification\"] = df[\"classification\"].replace(2, 1)\n",
        "\n",
        "# Troviamo tutte le componenti connesse\n",
        "components = list(nx.connected_components(graph))\n",
        "\n",
        "# Troviamo la componente connessa più grande\n",
        "largest_component = max(components, key=len)\n",
        "\n",
        "# Ora possiamo creare un nuovo grafo che contenga solo la componente più grande\n",
        "G = graph.subgraph(largest_component).copy()\n",
        "\n",
        "# Crea un dizionario che mappa ogni autore alla classificazione più frequente (ignorando NaN)\n",
        "author_labels = {}\n",
        "for author, group in df.groupby(\"author\"):\n",
        "    valid_classifications = group[\"classification\"].dropna()  # Ignora gli UNKNOWN\n",
        "    if not valid_classifications.empty:\n",
        "        most_common_label = Counter(valid_classifications).most_common(1)[0][0]\n",
        "        author_labels[author] = most_common_label\n",
        "\n",
        "# Assegna le etichette ai nodi\n",
        "to_remove = []  # Per rimuovere eventuali nodi non presenti nel CSV\n",
        "for node in G.nodes:\n",
        "    if node in author_labels:\n",
        "        G.nodes[node][\"label\"] = author_labels[node]\n",
        "    else:\n",
        "        to_remove.append(node)\n",
        "\n",
        "# Controllo finale: stampa i nodi con label 2 (dovrebbero essere 0)\n",
        "nodes_with_label_2 = [node for node, data in G.nodes(data=True) if data.get(\"label\") == 2]\n",
        "print(f\"Nodi con label 2: {nodes_with_label_2}\")  # Dovrebbe stampare []\n"
      ]
    },
    {
      "cell_type": "markdown",
      "metadata": {
        "id": "m9yGD8l3nqe3"
      },
      "source": [
        "Performing label propagation in order to classify the unknown nodes"
      ]
    },
    {
      "cell_type": "code",
      "execution_count": null,
      "metadata": {
        "colab": {
          "base_uri": "https://localhost:8080/"
        },
        "outputId": "7d521bea-0873-4b2d-a8a7-6191bbe351f4",
        "id": "_5Nf__Spnqe3"
      },
      "outputs": [
        {
          "output_type": "stream",
          "name": "stdout",
          "text": [
            "✅ Tutti i nodi hanno etichette valide.\n"
          ]
        }
      ],
      "source": [
        "import networkx as nx\n",
        "import random\n",
        "\n",
        "def label_propagation(G, max_iter=10):\n",
        "    for _ in range(max_iter):\n",
        "        for node in G.nodes:\n",
        "            if G.nodes[node].get('label') is None:  # Usa .get() per evitare KeyError\n",
        "                neighbor_labels = [G.nodes[n].get('label') for n in G.neighbors(node) if G.nodes[n].get('label') is not None]\n",
        "                if neighbor_labels:\n",
        "                    # Assegna la label più frequente tra i vicini\n",
        "                    G.nodes[node]['label'] = max(set(neighbor_labels), key=neighbor_labels.count)\n",
        "                else:\n",
        "                    # Se non ha vicini etichettati, assegna un'etichetta casuale (evita blocchi)\n",
        "                    G.nodes[node]['label'] = random.choice([0, 1])\n",
        "\n",
        "# Converti gli 'UNKNOWN' in None (se presenti)\n",
        "for node in G.nodes:\n",
        "    if G.nodes[node].get('label') == 'UNKNOWN':\n",
        "        G.nodes[node]['label'] = None\n",
        "\n",
        "# Applica la propagazione delle etichette\n",
        "label_propagation(G)\n",
        "\n",
        "valid_labels = {0, 1}\n",
        "\n",
        "# Estrai tutte le etichette dei nodi\n",
        "node_labels = set(nx.get_node_attributes(G, 'label').values())\n",
        "\n",
        "# Controlla se ci sono solo le etichette attese\n",
        "if node_labels.issubset(valid_labels):\n",
        "    print(\"✅ Tutti i nodi hanno etichette valide.\")\n",
        "else:\n",
        "    print(\"⚠️ Ci sono etichette non valide:\", node_labels - valid_labels)\n"
      ]
    },
    {
      "cell_type": "code",
      "source": [
        "import networkx as nx\n",
        "import csv\n",
        "\n",
        "def save_graph_labels(G, filename):\n",
        "\n",
        "    with open(filename, mode='w', newline='', encoding='utf-8') as file:\n",
        "        writer = csv.writer(file)\n",
        "        writer.writerow([\"Node\", \"Label\"])  # Column headers\n",
        "\n",
        "        for node, data in G.nodes(data=True):\n",
        "            label = data.get(\"label\", \"\")  # Get label if it exists, otherwise empty string\n",
        "            writer.writerow([node, label])\n",
        "\n",
        "\n",
        "save_graph_labels(G, \"/content/gdrive/MyDrive/dati_sna/tag_nodes_labeled.csv\")"
      ],
      "metadata": {
        "id": "Puh-_RmkuKX_"
      },
      "execution_count": null,
      "outputs": []
    },
    {
      "cell_type": "markdown",
      "metadata": {
        "id": "_DEUxO_Dnqe5"
      },
      "source": [
        "## Centrality analysis"
      ]
    },
    {
      "cell_type": "markdown",
      "source": [
        "Degree centrality vs labels"
      ],
      "metadata": {
        "id": "t8qO5YI1nqe5"
      }
    },
    {
      "cell_type": "code",
      "execution_count": null,
      "metadata": {
        "colab": {
          "base_uri": "https://localhost:8080/"
        },
        "outputId": "cd8df0f7-b6b7-4799-cc83-58281586b56e",
        "id": "ygC6NMagnqe6"
      },
      "outputs": [
        {
          "output_type": "stream",
          "name": "stdout",
          "text": [
            "Distribuzione etichette tra i nodi più centrali:\n",
            "1.0: 14508\n",
            "0.0: 3457\n"
          ]
        }
      ],
      "source": [
        "# Calcola metriche di centralità\n",
        "centrality = nx.degree_centrality(G)\n",
        "\n",
        "# Analizza la distribuzione delle etichette tra i nodi più centrali\n",
        "sorted_centrality = sorted(centrality.items(), key=lambda x: x[1], reverse=True)\n",
        "\n",
        "# Conta le etichette nei 10 utenti più influenti\n",
        "label_counts = Counter(G.nodes[node]['label'] for node, _ in sorted_centrality[:100000]) # Varying this number we consider the k highest degree centrality nodes\n",
        "\n",
        "#for node, score in sorted_centrality[:10]:  # Considera i 10 utenti più influenti\n",
        "    #print(f\"Autore: {node}, Centralità: {score}, Etichetta: {G.nodes[node]['label']}\")\n",
        "\n",
        "print(\"Distribuzione etichette tra i nodi più centrali:\")\n",
        "for label, count in label_counts.items():\n",
        "    print(f\"{label}: {count}\")"
      ]
    },
    {
      "cell_type": "markdown",
      "source": [
        "0: [i ate]\n",
        "1: [homemade]"
      ],
      "metadata": {
        "id": "imPTRffSnqe7"
      }
    },
    {
      "cell_type": "markdown",
      "source": [
        "Assortativity"
      ],
      "metadata": {
        "id": "_VSyyT7Cnqe8"
      }
    },
    {
      "cell_type": "code",
      "source": [
        "import networkx as nx\n",
        "\n",
        "def calculate_diet_assortativity(G):\n",
        "\n",
        "    # Controlliamo che i nodi abbiano l'attributo 'label'\n",
        "    if not all(\"label\" in G.nodes[n] for n in G.nodes):\n",
        "        raise ValueError(\"Tutti i nodi devono avere un'etichetta 'label' ('0' o '1' o '2').\")\n",
        "\n",
        "    # Rinominiamo l'attributo 'label' in 'diet' per calcolare l'assortatività\n",
        "    nx.set_node_attributes(G, {n: G.nodes[n][\"label\"] for n in G.nodes}, \"diet\")\n",
        "\n",
        "    # Calcoliamo l'assortatività rispetto alla dieta\n",
        "    assortativity = nx.attribute_assortativity_coefficient(G, \"diet\")\n",
        "\n",
        "    return assortativity\n",
        "\n",
        "# Calcoliamo l'assortatività\n",
        "assortativity = calculate_diet_assortativity(G)\n",
        "\n",
        "# Stampiamo il risultato\n",
        "print(f\"Assortatività rispetto alla dieta: {assortativity:.3f}\")"
      ],
      "metadata": {
        "colab": {
          "base_uri": "https://localhost:8080/"
        },
        "outputId": "8589cfa5-b619-40e3-e854-3e820ef765a7",
        "id": "1a7LYdI9nqe9"
      },
      "execution_count": null,
      "outputs": [
        {
          "output_type": "stream",
          "name": "stdout",
          "text": [
            "Assortatività rispetto alla dieta: 0.056\n"
          ]
        }
      ]
    },
    {
      "cell_type": "markdown",
      "source": [
        "Diet modularity"
      ],
      "metadata": {
        "id": "oNLlKDRxnqe9"
      }
    },
    {
      "cell_type": "code",
      "source": [
        "import networkx as nx\n",
        "import networkx.algorithms.community as nx_comm\n",
        "\n",
        "def calculate_diet_modularity(G):\n",
        "    \"\"\"\n",
        "    Calcola la modularità del grafo rispetto alla dieta.\n",
        "    \"\"\"\n",
        "    # Creiamo le comunità in base alla dieta\n",
        "    iate_nodes = {n for n in G.nodes if G.nodes[n].get(\"label\") == 0}\n",
        "    homemade_nodes = {n for n in G.nodes if G.nodes[n].get(\"label\") == 1}\n",
        "\n",
        "    communities = [iate_nodes, homemade_nodes]  # Rimosso prochef_nodes\n",
        "\n",
        "    # Calcoliamo la modularità\n",
        "    return nx_comm.modularity(G, communities)\n",
        "\n",
        "# Computing and printing out\n",
        "modularity = calculate_diet_modularity(G)\n",
        "print(f\"Modularità rispetto alla dieta: {modularity:.3f}\")"
      ],
      "metadata": {
        "colab": {
          "base_uri": "https://localhost:8080/"
        },
        "outputId": "b6e7844c-b0c5-4047-ed9b-46ec50d6bde1",
        "id": "doXaj23-nqe-"
      },
      "execution_count": null,
      "outputs": [
        {
          "output_type": "stream",
          "name": "stdout",
          "text": [
            "Modularità rispetto alla dieta: 0.024\n"
          ]
        }
      ]
    },
    {
      "cell_type": "code",
      "source": [
        "import networkx as nx\n",
        "\n",
        "def homophily_by_label(G):\n",
        "    \"\"\"\n",
        "    Calcola l'omofilia basata sulle etichette di un grafo G.\n",
        "    \"\"\"\n",
        "    same_label_edges = 0\n",
        "    total_edges = 0\n",
        "\n",
        "    for u, v, data in G.edges(data=True):\n",
        "        total_edges += 1\n",
        "        if G.nodes[u]['label'] == G.nodes[v]['label']:\n",
        "            same_label_edges += 1\n",
        "\n",
        "    return same_label_edges / total_edges if total_edges > 0 else 0\n",
        "\n",
        "\n",
        "def weighted_homophily(G):\n",
        "    \"\"\"\n",
        "    Calcola l'omofilia ponderata basata sulle etichette di un grafo G.\n",
        "    \"\"\"\n",
        "    same_label_weighted_edges = 0\n",
        "    total_weighted_edges = 0\n",
        "\n",
        "    for u, v, data in G.edges(data=True):\n",
        "        weight = data.get('weight', 1)  # Se non c'è peso, assume 1\n",
        "        total_weighted_edges += weight\n",
        "        if G.nodes[u]['label'] == G.nodes[v]['label']:\n",
        "            same_label_weighted_edges += weight\n",
        "\n",
        "    return same_label_weighted_edges / total_weighted_edges if total_weighted_edges > 0 else 0\n",
        "\n",
        "# Calcola l'omofilia basata sulle etichette\n",
        "omofilia_etichetta = homophily_by_label(G)\n",
        "print(f\"Omofilia basata sulle etichette: {omofilia_etichetta:.2f}\")\n",
        "\n",
        "# Calcola l'omofilia ponderata\n",
        "omofilia_ponderata = weighted_homophily(G)\n",
        "print(f\"Omofilia ponderata: {omofilia_ponderata:.2f}\")"
      ],
      "metadata": {
        "colab": {
          "base_uri": "https://localhost:8080/"
        },
        "id": "LcX5jzQkCHC4",
        "outputId": "e5b5beb2-ba0b-4766-be9e-cad2210151c1"
      },
      "execution_count": null,
      "outputs": [
        {
          "output_type": "stream",
          "name": "stdout",
          "text": [
            "Omofilia basata sulle etichette: 0.74\n",
            "Omofilia ponderata: 0.74\n"
          ]
        }
      ]
    },
    {
      "cell_type": "markdown",
      "source": [
        "# Ethnic Classification Analysis"
      ],
      "metadata": {
        "id": "PIPxhbbZuFC1"
      }
    },
    {
      "cell_type": "markdown",
      "source": [
        "## Labeling the Nodes as Usual"
      ],
      "metadata": {
        "id": "-mWpIVdbv9y8"
      }
    },
    {
      "cell_type": "code",
      "source": [
        "import networkx as nx\n",
        "import pandas as pd\n",
        "from collections import Counter\n",
        "from google.colab import drive\n",
        "\n",
        "# Caricare Google Drive\n",
        "drive.mount('/content/gdrive')\n",
        "\n",
        "# Carica il CSV\n",
        "df = pd.read_csv(\"/content/gdrive/MyDrive/dati_sna/ethnic_titles_2022_cleaned.csv\")\n",
        "\n",
        "# Troviamo tutte le componenti connesse\n",
        "components = list(nx.connected_components(graph_weighted))\n",
        "\n",
        "# Troviamo la componente connessa più grande\n",
        "largest_component = max(components, key=len)\n",
        "\n",
        "# Creiamo un nuovo grafo contenente solo la componente più grande (preservando i pesi)\n",
        "G = graph_weighted.subgraph(largest_component).copy()\n",
        "\n",
        "# Lista delle classificazioni valide\n",
        "valid_classifications = [\"American\", \"Chinese\", \"French\", \"Italian\", \"Mexican\", \"Japanese\", \"Middle\",\n",
        "                         \"British\", \"Indian\", \"Greek\", \"Korean\", \"German\", \"Spanish\", \"Vietnamese\",\n",
        "                         \"Asian\", \"Russian\", \"Caribbean\", \"Hawaiian\", \"African\", \"Brazilian\", \"Turkish\",\n",
        "                         \"Polish\", \"Jewish\", \"Latin\", \"Irish\", \"Southeast\", \"Australian\", \"Thai\", \"Canadian\",\n",
        "                         \"Swedish\", \"Filipino\", \"Scottish\", \"Portuguese\", \"Peruvian\", \"Hungarian\", \"Dutch\",\n",
        "                         \"Scandinavian\", \"Georgian\", \"Ukrainian\", \"Ethiopian\", \"Belgian\", \"Swiss\", \"Jamaican\",\n",
        "                         \"Cuban\", \"Persian\", \"Argentine\", \"Romanian\", \"Czech\", \"Iranian\", \"Danish\",\n",
        "                         \"Austrian\", \"Norwegian\", \"Colombian\"]\n",
        "\n",
        "# Crea un dizionario che mappa ogni autore alla classificazione basata su tutte le sue etichette\n",
        "author_labels = {}\n",
        "for author, group in df.groupby(\"author\"):\n",
        "    label_counts = Counter(group[\"classification\"])\n",
        "\n",
        "    # Conta le occorrenze delle classificazioni valide\n",
        "    valid_counts = {label: label_counts.get(label, 0) for label in valid_classifications}\n",
        "\n",
        "    # Se ci sono più etichette con lo stesso numero di occorrenze, assegna \"unknown\"\n",
        "    if len(set(valid_counts.values())) == 1 and sum(valid_counts.values()) > 0:\n",
        "        author_labels[author] = \"unknown\"\n",
        "    else:\n",
        "        # Altrimenti, assegna l'etichetta più frequente\n",
        "        most_common_label = max(valid_counts, key=valid_counts.get)\n",
        "        author_labels[author] = most_common_label\n",
        "\n",
        "# Assegna le etichette ai nodi del grafo\n",
        "to_remove = []  # Per rimuovere eventuali nodi non presenti nel CSV\n",
        "for node in G.nodes:\n",
        "    if node in author_labels:\n",
        "        G.nodes[node][\"label\"] = author_labels[node]\n",
        "    else:\n",
        "        to_remove.append(node)\n",
        "\n",
        "# Rimuovi nodi che non hanno etichetta\n",
        "G.remove_nodes_from(to_remove)\n",
        "\n",
        "print(\"Etichette assegnate alla componente più grande del grafo.\")\n"
      ],
      "metadata": {
        "colab": {
          "base_uri": "https://localhost:8080/"
        },
        "id": "uob_Cht1v8VU",
        "outputId": "dfb670c6-8a20-47be-8adb-6d06960ec0b3"
      },
      "execution_count": null,
      "outputs": [
        {
          "output_type": "stream",
          "name": "stdout",
          "text": [
            "Drive already mounted at /content/gdrive; to attempt to forcibly remount, call drive.mount(\"/content/gdrive\", force_remount=True).\n",
            "Etichette assegnate alla componente più grande del grafo.\n"
          ]
        }
      ]
    },
    {
      "cell_type": "code",
      "source": [
        "import networkx as nx\n",
        "import random\n",
        "\n",
        "# Definizione della funzione di propagazione delle etichette\n",
        "def label_propagation(G, max_iter=10):\n",
        "    for _ in range(max_iter):\n",
        "        for node in G.nodes:\n",
        "            if G.nodes[node]['label'] == 'unknown':\n",
        "                neighbor_labels = [G.nodes[n]['label'] for n in G.neighbors(node) if G.nodes[n]['label'] != 'unknown']\n",
        "                if neighbor_labels:\n",
        "                    # Assegna la label più frequente tra i vicini\n",
        "                    G.nodes[node]['label'] = max(set(neighbor_labels), key=neighbor_labels.count)\n",
        "\n",
        "# Applicare la propagazione delle etichette\n",
        "label_propagation(G)\n",
        "\n",
        "valid_labels = {\"American\", \"Chinese\", \"French\", \"Italian\", \"Mexican\", \"Japanese\", \"Middle\",\n",
        "                \"British\", \"Indian\", \"Greek\", \"Korean\", \"German\", \"Spanish\", \"Vietnamese\",\n",
        "                \"Asian\", \"Russian\", \"Caribbean\", \"Hawaiian\", \"African\", \"Brazilian\", \"Turkish\",\n",
        "                \"Polish\", \"Jewish\", \"Latin\", \"Irish\", \"Southeast\", \"Australian\", \"Thai\", \"Canadian\",\n",
        "                \"Swedish\", \"Filipino\", \"Scottish\", \"Portuguese\", \"Peruvian\", \"Hungarian\", \"Dutch\",\n",
        "                \"Scandinavian\", \"Georgian\", \"Ukrainian\", \"Ethiopian\", \"Belgian\", \"Swiss\", \"Jamaican\",\n",
        "                \"Cuban\", \"Persian\", \"Argentine\", \"Romanian\", \"Czech\", \"Iranian\", \"Danish\",\n",
        "                \"Austrian\", \"Norwegian\", \"Colombian\"}\n",
        "\n",
        "# Estrai tutte le etichette dei nodi\n",
        "node_labels = set(nx.get_node_attributes(G, 'label').values())\n",
        "\n",
        "# Controlla se ci sono solo le etichette attese\n",
        "if node_labels.issubset(valid_labels):\n",
        "    print(\"Tutti i nodi hanno etichette valide.\")\n",
        "else:\n",
        "    print(\"Ci sono etichette non valide:\", node_labels - valid_labels)"
      ],
      "metadata": {
        "colab": {
          "base_uri": "https://localhost:8080/"
        },
        "id": "V8kK_WPYwZlH",
        "outputId": "a0741035-9f86-4dfd-8d33-c0590c218f0e"
      },
      "execution_count": null,
      "outputs": [
        {
          "output_type": "stream",
          "name": "stdout",
          "text": [
            "Tutti i nodi hanno etichette valide.\n"
          ]
        }
      ]
    },
    {
      "cell_type": "code",
      "source": [
        "import networkx as nx\n",
        "import csv\n",
        "\n",
        "def save_graph_labels(G, filename):\n",
        "\n",
        "    with open(filename, mode='w', newline='', encoding='utf-8') as file:\n",
        "        writer = csv.writer(file)\n",
        "        writer.writerow([\"Node\", \"Label\"])  # Column headers\n",
        "\n",
        "        for node, data in G.nodes(data=True):\n",
        "            label = data.get(\"label\", \"\")  # Get label if it exists, otherwise empty string\n",
        "            writer.writerow([node, label])\n",
        "\n",
        "\n",
        "save_graph_labels(G, \"/content/gdrive/MyDrive/dati_sna/eth_nodes_labeled.csv\")"
      ],
      "metadata": {
        "id": "xmbdhSsruPCC"
      },
      "execution_count": null,
      "outputs": []
    },
    {
      "cell_type": "markdown",
      "metadata": {
        "id": "X_3FFuFnwzjL"
      },
      "source": [
        "## Centrality analysis"
      ]
    },
    {
      "cell_type": "markdown",
      "source": [
        "Degree centrality vs labels"
      ],
      "metadata": {
        "id": "KutU9s3Kwzjn"
      }
    },
    {
      "cell_type": "code",
      "execution_count": null,
      "metadata": {
        "colab": {
          "base_uri": "https://localhost:8080/"
        },
        "outputId": "e3131808-3237-4a1d-9a99-b18a55e8994c",
        "id": "jCmxnkSJwzjn"
      },
      "outputs": [
        {
          "output_type": "stream",
          "name": "stdout",
          "text": [
            "Distribuzione etichette tra i nodi più centrali:\n",
            "French: 1670\n",
            "American: 9280\n",
            "Chinese: 3603\n",
            "Asian: 28\n",
            "British: 289\n",
            "Greek: 132\n",
            "Italian: 975\n",
            "Middle: 336\n",
            "Mexican: 401\n",
            "Japanese: 372\n",
            "Korean: 94\n",
            "German: 106\n",
            "Vietnamese: 42\n",
            "Georgian: 10\n",
            "Jamaican: 4\n",
            "Canadian: 23\n",
            "Peruvian: 12\n",
            "Indian: 116\n",
            "Spanish: 54\n",
            "Jewish: 23\n",
            "Russian: 30\n",
            "Colombian: 4\n",
            "Brazilian: 21\n",
            "African: 26\n",
            "Caribbean: 27\n",
            "Polish: 29\n",
            "Scottish: 13\n",
            "Hawaiian: 36\n",
            "Turkish: 19\n",
            "Southeast: 15\n",
            "Czech: 2\n",
            "Portuguese: 10\n",
            "Swiss: 3\n",
            "Scandinavian: 8\n",
            "Australian: 24\n",
            "Filipino: 13\n",
            "Norwegian: 4\n",
            "Swedish: 22\n",
            "Irish: 19\n",
            "Ethiopian: 4\n",
            "Austrian: 1\n",
            "Belgian: 7\n",
            "Thai: 13\n",
            "Latin: 15\n",
            "Ukrainian: 5\n",
            "Hungarian: 6\n",
            "Dutch: 8\n",
            "Romanian: 3\n",
            "Cuban: 2\n",
            "Iranian: 2\n",
            "Argentine: 3\n",
            "Danish: 1\n"
          ]
        }
      ],
      "source": [
        "# Calcola metriche di centralità\n",
        "centrality = nx.degree_centrality(G)\n",
        "\n",
        "# Analizza la distribuzione delle etichette tra i nodi più centrali\n",
        "sorted_centrality = sorted(centrality.items(), key=lambda x: x[1], reverse=True)\n",
        "\n",
        "# Conta le etichette nei 10 utenti più influenti\n",
        "label_counts = Counter(G.nodes[node]['label'] for node, _ in sorted_centrality[:100000]) # Varying this number we consider the k highest degree centrality nodes\n",
        "\n",
        "#for node, score in sorted_centrality[:10]:  # Considera i 10 utenti più influenti\n",
        "    #print(f\"Autore: {node}, Centralità: {score}, Etichetta: {G.nodes[node]['label']}\")\n",
        "\n",
        "print(\"Distribuzione etichette tra i nodi più centrali:\")\n",
        "for label, count in label_counts.items():\n",
        "    print(f\"{label}: {count}\")"
      ]
    },
    {
      "cell_type": "markdown",
      "source": [
        "When we use the majority rule to label the nodes the number of omnivorous and vegetarians is balanced, in the version based on strictly vegetarians the majority of users is considered to be omnivorous but still in the same order of magnitude"
      ],
      "metadata": {
        "id": "yP0_iytnwzjp"
      }
    },
    {
      "cell_type": "markdown",
      "source": [
        "Assortativity"
      ],
      "metadata": {
        "id": "APOW3rrSwzjp"
      }
    },
    {
      "cell_type": "code",
      "source": [
        "import networkx as nx\n",
        "\n",
        "def calculate_diet_assortativity(G):\n",
        "\n",
        "    # Controlliamo che i nodi abbiano l'attributo 'label'\n",
        "    if not all(\"label\" in G.nodes[n] for n in G.nodes):\n",
        "        raise ValueError(\"Tutti i nodi devono avere un'etichetta 'label'.\")\n",
        "\n",
        "    # Rinominiamo l'attributo 'label' in 'diet' per calcolare l'assortatività\n",
        "    nx.set_node_attributes(G, {n: G.nodes[n][\"label\"] for n in G.nodes}, \"diet\")\n",
        "\n",
        "    # Calcoliamo l'assortatività rispetto alla dieta\n",
        "    assortativity = nx.attribute_assortativity_coefficient(G, \"diet\")\n",
        "\n",
        "    return assortativity\n",
        "\n",
        "\n",
        "\n",
        "# Calcoliamo l'assortatività\n",
        "assortativity = calculate_diet_assortativity(G)\n",
        "\n",
        "# Stampiamo il risultato\n",
        "print(f\"Assortatività rispetto alla dieta: {assortativity:.3f}\")"
      ],
      "metadata": {
        "colab": {
          "base_uri": "https://localhost:8080/"
        },
        "outputId": "2f17bd78-ba62-443d-c170-233ecf8e4e45",
        "id": "xAfK0Pp1wzjq"
      },
      "execution_count": null,
      "outputs": [
        {
          "output_type": "stream",
          "name": "stdout",
          "text": [
            "Assortatività rispetto alla dieta: 0.064\n"
          ]
        }
      ]
    },
    {
      "cell_type": "code",
      "source": [
        "import networkx as nx\n",
        "import seaborn as sns\n",
        "import matplotlib.pyplot as plt\n",
        "import numpy as np\n",
        "\n",
        "# Troviamo le categorie uniche ordinate\n",
        "unique_labels = sorted(set(nx.get_node_attributes(G, \"diet\").values()))\n",
        "\n",
        "# Creiamo un dizionario che mappa le categorie ai loro indici\n",
        "label_to_index = {label: i for i, label in enumerate(unique_labels)}\n",
        "\n",
        "# Calcoliamo la matrice di assortatività\n",
        "matrix = nx.attribute_mixing_matrix(G, \"diet\", normalized=True, mapping=label_to_index)\n",
        "\n",
        "# Creiamo il plot\n",
        "plt.figure(figsize=(12, 10))  # Imposta una dimensione più grande per la leggibilità\n",
        "sns.heatmap(matrix, cmap=\"coolwarm\", annot=False, fmt=\".2f\", cbar=True,\n",
        "            xticklabels=unique_labels, yticklabels=unique_labels)\n",
        "\n",
        "# Miglioriamo il layout\n",
        "plt.title(\"Matrice di Assortatività per Attributo 'Diet'\")\n",
        "plt.xlabel(\"Categoria Dieta\")\n",
        "plt.ylabel(\"Categoria Dieta\")\n",
        "plt.xticks(rotation=90, fontsize=8)  # Ruotiamo per maggiore leggibilità\n",
        "plt.yticks(fontsize=8)\n",
        "\n",
        "plt.show()"
      ],
      "metadata": {
        "colab": {
          "base_uri": "https://localhost:8080/",
          "height": 934
        },
        "id": "hE3tpD6xIr-E",
        "outputId": "570ddffd-1849-4120-aecb-68f0a1409fa4"
      },
      "execution_count": null,
      "outputs": [
        {
          "output_type": "display_data",
          "data": {
            "text/plain": [
              "<Figure size 1200x1000 with 2 Axes>"
            ],
            "image/png": "[encoded data removed]"
          },
          "metadata": {}
        }
      ]
    },
    {
      "cell_type": "code",
      "source": [
        "import networkx as nx\n",
        "\n",
        "def calculate_assortativity_between_american_and_other(G):\n",
        "    # Controlliamo che i nodi abbiano l'attributo 'label'\n",
        "    if not all(\"label\" in G.nodes[n] for n in G.nodes):\n",
        "        raise ValueError(\"Tutti i nodi devono avere un'etichetta 'label'.\")\n",
        "\n",
        "    # Mappiamo i nodi in due categorie: \"American\" e \"Other\"\n",
        "    node_labels = {}\n",
        "    for n, data in G.nodes(data=True):\n",
        "        if data[\"label\"] == \"American\":\n",
        "            node_labels[n] = \"American\"\n",
        "        else:\n",
        "            node_labels[n] = \"Other\"\n",
        "\n",
        "    # Aggiungiamo l'attributo \"diet\" per ogni nodo\n",
        "    nx.set_node_attributes(G, node_labels, \"diet\")\n",
        "\n",
        "    # Calcoliamo l'assortatività tra \"American\" e \"Other\"\n",
        "    assortativity = nx.attribute_assortativity_coefficient(G, \"diet\")\n",
        "\n",
        "    return assortativity\n",
        "\n",
        "# Calcoliamo l'assortatività tra \"American\" e \"Other\"\n",
        "assortativity = calculate_assortativity_between_american_and_other(G)\n",
        "\n",
        "# Stampiamo il risultato\n",
        "print(f\"Assortatività tra 'American' e 'Other': {assortativity:.3f}\")\n"
      ],
      "metadata": {
        "colab": {
          "base_uri": "https://localhost:8080/"
        },
        "id": "R5NdDuCUzlMu",
        "outputId": "afe50af6-ef08-48bc-ea13-f40f4f6c4859"
      },
      "execution_count": null,
      "outputs": [
        {
          "output_type": "stream",
          "name": "stdout",
          "text": [
            "Assortatività tra 'American' e 'Other': 0.074\n"
          ]
        }
      ]
    },
    {
      "cell_type": "markdown",
      "source": [
        "Non c'è tutta questa differenza/significatività..."
      ],
      "metadata": {
        "id": "5AMleba_0cmz"
      }
    },
    {
      "cell_type": "markdown",
      "source": [
        "Da riprovare nel grafo orientato! Interessante che gli americani abbiano un mixing più evidente, in particolare sembra l'unica etnia che ha una assortatività con sè stessa maggiore che con quella fatta con altri."
      ],
      "metadata": {
        "id": "nCU--kHwKZla"
      }
    },
    {
      "cell_type": "markdown",
      "source": [
        "Diet modularity"
      ],
      "metadata": {
        "id": "enMWgpGwwzjr"
      }
    },
    {
      "cell_type": "code",
      "source": [
        "import networkx as nx\n",
        "import networkx.algorithms.community as nx_comm\n",
        "\n",
        "# Definizione della funzione per calcolare la modularità etnica\n",
        "def calculate_ethnic_modularity(G):\n",
        "    \"\"\"\n",
        "    Calcola la modularità del grafo rispetto alla classificazione etnica.\n",
        "    \"\"\"\n",
        "    # Creiamo le comunità in base alla classificazione etnica\n",
        "    communities = {}\n",
        "    for n in G.nodes:\n",
        "        label = G.nodes[n][\"label\"]\n",
        "        if label not in communities:\n",
        "            communities[label] = set()\n",
        "        communities[label].add(n)\n",
        "\n",
        "    community_list = list(communities.values())\n",
        "\n",
        "    # Calcoliamo la modularità\n",
        "    return nx_comm.modularity(G, community_list)\n",
        "\n",
        "# computing and printing out\n",
        "modularity = calculate_ethnic_modularity(G)\n",
        "print(f\"Modularità rispetto alla classificazione etnica: {modularity:.3f}\")"
      ],
      "metadata": {
        "colab": {
          "base_uri": "https://localhost:8080/"
        },
        "outputId": "46797a7b-beb1-4db2-f711-a673ea58d760",
        "id": "OptaKzQxwzjr"
      },
      "execution_count": null,
      "outputs": [
        {
          "output_type": "stream",
          "name": "stdout",
          "text": [
            "Modularità rispetto alla classificazione etnica: 0.092\n"
          ]
        }
      ]
    },
    {
      "cell_type": "code",
      "source": [
        "import networkx as nx\n",
        "\n",
        "def homophily_by_label(G):\n",
        "    \"\"\"\n",
        "    Calcola l'omofilia basata sulle etichette di un grafo G.\n",
        "    \"\"\"\n",
        "    same_label_edges = 0\n",
        "    total_edges = 0\n",
        "\n",
        "    for u, v, data in G.edges(data=True):\n",
        "        total_edges += 1\n",
        "        if G.nodes[u]['label'] == G.nodes[v]['label']:\n",
        "            same_label_edges += 1\n",
        "\n",
        "    return same_label_edges / total_edges if total_edges > 0 else 0\n",
        "\n",
        "\n",
        "def weighted_homophily(G):\n",
        "    \"\"\"\n",
        "    Calcola l'omofilia ponderata basata sulle etichette di un grafo G.\n",
        "    \"\"\"\n",
        "    same_label_weighted_edges = 0\n",
        "    total_weighted_edges = 0\n",
        "\n",
        "    for u, v, data in G.edges(data=True):\n",
        "        weight = data.get('weight', 1)  # Se non c'è peso, assume 1\n",
        "        total_weighted_edges += weight\n",
        "        if G.nodes[u]['label'] == G.nodes[v]['label']:\n",
        "            same_label_weighted_edges += weight\n",
        "\n",
        "    return same_label_weighted_edges / total_weighted_edges if total_weighted_edges > 0 else 0\n",
        "\n",
        "# Calcola l'omofilia basata sulle etichette\n",
        "omofilia_etichetta = homophily_by_label(G)\n",
        "print(f\"Omofilia basata sulle etichette: {omofilia_etichetta:.2f}\")\n",
        "\n",
        "# Calcola l'omofilia ponderata\n",
        "omofilia_ponderata = weighted_homophily(G)\n",
        "print(f\"Omofilia ponderata: {omofilia_ponderata:.2f}\")"
      ],
      "metadata": {
        "id": "8ye3lnJxCNXD",
        "outputId": "c5309de7-daa6-48cd-d835-a62a99c5ecd3",
        "colab": {
          "base_uri": "https://localhost:8080/"
        }
      },
      "execution_count": null,
      "outputs": [
        {
          "output_type": "stream",
          "name": "stdout",
          "text": [
            "Omofilia basata sulle etichette: 0.43\n",
            "Omofilia ponderata: 0.47\n"
          ]
        }
      ]
    },
    {
      "cell_type": "markdown",
      "source": [
        "# Other Analysis"
      ],
      "metadata": {
        "id": "BC8fFeAIQRNN"
      }
    },
    {
      "cell_type": "markdown",
      "source": [
        "Correlation Between Degree and Number of Posts"
      ],
      "metadata": {
        "id": "x3GrZd1UBaoC"
      }
    },
    {
      "cell_type": "code",
      "source": [
        "import pandas as pd\n",
        "import networkx as nx\n",
        "import matplotlib.pyplot as plt\n",
        "import scipy.stats as stats\n",
        "\n",
        "# Load the CSV file\n",
        "def load_csv(file_path):\n",
        "    df = pd.read_csv(file_path)\n",
        "    return df\n",
        "\n",
        "# Count how many times each author appears\n",
        "def count_authors(df):\n",
        "    return df['author'].value_counts().to_dict()\n",
        "\n",
        "# Compute the degree of the graph (number of connections for each node)\n",
        "def compute_degree(graph):\n",
        "    return dict(graph.degree())\n",
        "\n",
        "# Compare the author counts with their degree\n",
        "def compare_author_counts_with_degree(graph, author_counts):\n",
        "    degrees = compute_degree(graph)\n",
        "    comparison = {\n",
        "        author: {'count': count, 'degree': degrees.get(author, 0)}\n",
        "        for author, count in author_counts.items()\n",
        "    }\n",
        "    return comparison\n",
        "\n",
        "# Compute the average number of posts per user\n",
        "def compute_average_posts(author_counts):\n",
        "    return sum(author_counts.values()) / len(author_counts) if author_counts else 0\n",
        "\n",
        "# Calculate the correlation between the number of posts and degree\n",
        "def compute_correlation(comparison):\n",
        "    counts = [data['count'] for data in comparison.values()]\n",
        "    degrees = [data['degree'] for data in comparison.values()]\n",
        "    correlation, _ = stats.pearsonr(counts, degrees) if counts and degrees else (None, None)\n",
        "    return correlation\n",
        "\n",
        "# Filter the top authors by post count and degree\n",
        "def filter_top_authors(comparison, top_n=10):\n",
        "    top_by_count = sorted(comparison.items(), key=lambda x: x[1]['count'], reverse=True)[:top_n]\n",
        "    top_by_degree = sorted(comparison.items(), key=lambda x: x[1]['degree'], reverse=True)[:top_n]\n",
        "    return top_by_count, top_by_degree\n",
        "\n",
        "# Add scatter plot between degree and number of posts in logarithmic scale\n",
        "def plot_scatter(comparison):\n",
        "    counts = [data['count'] for data in comparison.values()]\n",
        "    degrees = [data['degree'] for data in comparison.values()]\n",
        "\n",
        "    plt.figure(figsize=(8, 6))\n",
        "    plt.scatter(degrees, counts, color='blue', alpha=0.5)\n",
        "    plt.title('Correlation between Degree and Number of Posts')\n",
        "    plt.xlabel('Degree (Node Degree)')\n",
        "    plt.ylabel('Number of Posts')\n",
        "    plt.xscale('log')  # Logarithmic scale for the X axis\n",
        "    plt.yscale('log')  # Logarithmic scale for the Y axis\n",
        "    plt.grid(True)\n",
        "    plt.show()\n",
        "\n",
        "# Example usage\n",
        "if __name__ == \"__main__\":\n",
        "    file_path = \"/content/gdrive/MyDrive/dati_sna/tag_titles_2022.csv\"\n",
        "    graph = graph  # Assume the graph is already defined elsewhere\n",
        "\n",
        "    df = load_csv(file_path)\n",
        "    author_counts = count_authors(df)\n",
        "    result = compare_author_counts_with_degree(graph, author_counts)\n",
        "\n",
        "    average_posts = compute_average_posts(author_counts)\n",
        "    correlation = compute_correlation(result)\n",
        "\n",
        "    top_by_count, top_by_degree = filter_top_authors(result)\n",
        "\n",
        "    print(f\"Average number of posts per user: {average_posts:.2f}\")\n",
        "    print(f\"Correlation between number of posts and degree: {correlation:.4f}\")\n",
        "\n",
        "    print(\"\\nTop authors by number of posts:\")\n",
        "    for author, data in top_by_count:\n",
        "        print(f\"{author}: Count = {data['count']}, Degree = {data['degree']}\")\n",
        "\n",
        "    print(\"\\nTop authors by degree:\")\n",
        "    for author, data in top_by_degree:\n",
        "        print(f\"{author}: Count = {data['count']}, Degree = {data['degree']}\")\n",
        "\n",
        "    # Plot the scatter plot\n",
        "    plot_scatter(result)\n"
      ],
      "metadata": {
        "colab": {
          "base_uri": "https://localhost:8080/",
          "height": 1000
        },
        "id": "OlYBOhBARrcc",
        "outputId": "0704e953-c841-4235-e574-21d97cb57803"
      },
      "execution_count": null,
      "outputs": [
        {
          "output_type": "stream",
          "name": "stdout",
          "text": [
            "Average number of posts per user: 2.52\n",
            "Correlation between number of posts and degree: 0.3171\n",
            "\n",
            "Top authors by number of posts:\n",
            "u/kytran40: Count = 389, Degree = 491\n",
            "u/onemantwohands: Count = 382, Degree = 174\n",
            "u/Sir_Rule: Count = 300, Degree = 108\n",
            "u/4food_is_love: Count = 246, Degree = 145\n",
            "u/balalaikagam3s: Count = 186, Degree = 71\n",
            "u/fergi20020: Count = 176, Degree = 191\n",
            "u/kawi-bawi-bo: Count = 172, Degree = 92\n",
            "u/Ditz3n: Count = 164, Degree = 107\n",
            "u/pistolpxte: Count = 163, Degree = 164\n",
            "u/Turtleramem: Count = 157, Degree = 388\n",
            "\n",
            "Top authors by degree:\n",
            "u/Sun_Beams: Count = 33, Degree = 3373\n",
            "u/Sexy_Banker_Lady: Count = 63, Degree = 686\n",
            "u/kytran40: Count = 389, Degree = 491\n",
            "u/walkstwomoons2: Count = 24, Degree = 459\n",
            "u/introvertedalaskan: Count = 3, Degree = 444\n",
            "u/Turtleramem: Count = 157, Degree = 388\n",
            "u/Affectionate-Tea-975: Count = 8, Degree = 358\n",
            "u/cookinwithclint: Count = 103, Degree = 334\n",
            "u/kymilovechelle: Count = 123, Degree = 327\n",
            "u/Kitchen_Equipment_21: Count = 2, Degree = 294\n"
          ]
        },
        {
          "output_type": "display_data",
          "data": {
            "text/plain": [
              "<Figure size 800x600 with 1 Axes>"
            ],
            "image/png": "[encoded data removed]"
          },
          "metadata": {}
        }
      ]
    },
    {
      "cell_type": "markdown",
      "source": [
        "# DIRECTED GRAPH ANALYSIS"
      ],
      "metadata": {
        "id": "WIw8i5Rxbk3g"
      }
    },
    {
      "cell_type": "markdown",
      "source": [
        "Ci sono degli errori grossi in questa parte... da rivedere"
      ],
      "metadata": {
        "id": "6s_2KtCAijuL"
      }
    },
    {
      "cell_type": "markdown",
      "metadata": {
        "id": "dl0GsIiGjU7X"
      },
      "source": [
        "## Veg/Omn"
      ]
    },
    {
      "cell_type": "markdown",
      "metadata": {
        "id": "IcbOzi-ujU71"
      },
      "source": [
        "Labeling each node, with a majority rule of posted contents, in vegetarian/omnivorous/unknown"
      ]
    },
    {
      "cell_type": "code",
      "execution_count": null,
      "metadata": {
        "id": "0Uq6SQjcjU72"
      },
      "outputs": [],
      "source": [
        "import networkx as nx\n",
        "import pandas as pd\n",
        "from collections import Counter\n",
        "\n",
        "# Carica il CSV\n",
        "df = pd.read_csv(\"/content/gdrive/MyDrive/dati_sna/veg_titles_2022_cleaned.csv\")\n",
        "\n",
        "# Troviamo tutte le componenti fortemente connesse (per un grafo diretto)\n",
        "components = list(nx.weakly_connected_components(graph_directed))\n",
        "\n",
        "# Troviamo la componente connessa più grande\n",
        "largest_component = max(components, key=len)\n",
        "\n",
        "# Creiamo un nuovo grafo contenente solo la componente più grande (preservando i pesi)\n",
        "G = graph_directed.subgraph(largest_component).copy()\n",
        "\n",
        "# Crea un dizionario che mappa ogni autore alla classificazione basata su tutte le sue etichette\n",
        "author_labels = {}\n",
        "for author, group in df.groupby(\"author\"):\n",
        "    label_counts = Counter(group[\"classification\"])  # Conta quante volte compaiono vegetarian/omnivorous\n",
        "\n",
        "    veg_count = label_counts.get(\"vegetarian\", 0)\n",
        "    omni_count = label_counts.get(\"omnivorous\", 0)\n",
        "\n",
        "    # Se il numero di vegetariani è uguale a quello degli omnivori, l'etichetta sarà 'unknown'\n",
        "    if veg_count == omni_count and veg_count > 0:  # Se sono uguali e > 0 → 'unknown'\n",
        "        author_labels[author] = \"unknown\"\n",
        "    else:\n",
        "        # Altrimenti, assegna l'etichetta più frequente\n",
        "        most_common_label = max(label_counts, key=label_counts.get)\n",
        "        author_labels[author] = most_common_label\n",
        "\n",
        "# Assegna le etichette ai nodi del grafo\n",
        "to_remove = []  # Per rimuovere eventuali nodi non presenti nel CSV\n",
        "for node in G.nodes:\n",
        "    if node in author_labels:\n",
        "        G.nodes[node][\"label\"] = author_labels[node]\n",
        "    else:\n",
        "        to_remove.append(node)\n",
        "\n",
        "# Rimuovi nodi che non hanno etichetta\n",
        "G.remove_nodes_from(to_remove)"
      ]
    },
    {
      "cell_type": "markdown",
      "metadata": {
        "id": "ZxHKbYQujU73"
      },
      "source": [
        "Performing label propagation in order to classify the unknown nodes"
      ]
    },
    {
      "cell_type": "code",
      "execution_count": null,
      "metadata": {
        "colab": {
          "base_uri": "https://localhost:8080/"
        },
        "outputId": "dc379bb6-642c-460a-edf6-ad5d9736317e",
        "id": "IKwHihbmjU73"
      },
      "outputs": [
        {
          "output_type": "stream",
          "name": "stdout",
          "text": [
            "Tutti i nodi hanno etichette valide.\n"
          ]
        }
      ],
      "source": [
        "import networkx as nx\n",
        "import random\n",
        "from collections import Counter\n",
        "\n",
        "def label_propagation(G, max_iter=100):\n",
        "    # Iterazione per la propagazione delle etichette\n",
        "    for _ in range(max_iter):\n",
        "        for node in G.nodes:\n",
        "            # Controlla se la label è 'unknown'\n",
        "            if G.nodes[node].get('label', 'unknown') == 'unknown':\n",
        "                # Ottieni le etichette dei vicini (sia predecessori che successori in un grafo diretto)\n",
        "                neighbor_labels = [G.nodes[n]['label'] for n in list(G.successors(node)) + list(G.predecessors(node))\n",
        "                                   if G.nodes[n].get('label', 'unknown') != 'unknown']\n",
        "\n",
        "                if neighbor_labels:\n",
        "                    # Assegna la label più frequente tra i vicini\n",
        "                    most_common_label = Counter(neighbor_labels).most_common(1)[0][0]\n",
        "                    G.nodes[node]['label'] = most_common_label\n",
        "                else:\n",
        "                    # Se non ci sono vicini con etichette, l'etichetta resta 'unknown' o puoi impostarla a una default\n",
        "                    G.nodes[node]['label'] = 'unknown'\n",
        "\n",
        "# Applicare la propagazione delle etichette\n",
        "label_propagation(G)\n",
        "\n",
        "valid_labels = {\"vegetarian\", \"omnivorous\"}\n",
        "\n",
        "# Estrai tutte le etichette dei nodi\n",
        "node_labels = set(nx.get_node_attributes(G, 'label').values())\n",
        "\n",
        "# Controlla se ci sono solo le etichette attese\n",
        "if node_labels.issubset(valid_labels):\n",
        "    print(\"Tutti i nodi hanno etichette valide.\")\n",
        "else:\n",
        "    print(\"Ci sono etichette non valide:\", node_labels - valid_labels)\n"
      ]
    },
    {
      "cell_type": "code",
      "source": [
        "import networkx as nx\n",
        "import matplotlib.pyplot as plt\n",
        "\n",
        "# Supponiamo che 'G' sia il grafo diretto già creato e che i nodi siano etichettati come 'vegetarian' o 'omnivorous'\n",
        "# Ad esempio, G.nodes[nodo] = 'vegetarian' o 'omnivorous'\n",
        "\n",
        "# Funzione per calcolare il numero di archi tra i gruppi\n",
        "def count_edges_by_group(G):\n",
        "    vegetarian_to_omnivorous = 0\n",
        "    vegetarian_to_vegetarian = 0\n",
        "    omnivorous_to_omnivorous = 0\n",
        "    omnivorous_to_vegetarian = 0\n",
        "    total_edges = 0\n",
        "\n",
        "    for u, v in G.edges():\n",
        "        if G.nodes[u]['label'] == 'vegetarian' and G.nodes[v]['label'] == 'omnivorous':\n",
        "            vegetarian_to_omnivorous += 1\n",
        "        if G.nodes[u]['label'] == 'omnivorous' and G.nodes[v]['label'] == 'vegetarian':\n",
        "            omnivorous_to_vegetarian += 1\n",
        "        if G.nodes[u]['label'] == 'vegetarian' and G.nodes[v]['label'] == 'vegetarian':\n",
        "            vegetarian_to_vegetarian += 1\n",
        "        if G.nodes[u]['label'] == 'omnivorous' and G.nodes[v]['label'] == 'omnivorous':\n",
        "            omnivorous_to_omnivorous += 1\n",
        "        total_edges += 1\n",
        "\n",
        "    return vegetarian_to_omnivorous, omnivorous_to_vegetarian, total_edges, vegetarian_to_vegetarian, omnivorous_to_omnivorous\n",
        "\n",
        "# Funzione per calcolare l'indice di asimmetria\n",
        "def compute_asymmetry(vegetarian_to_omnivorous, omnivorous_to_vegetarian):\n",
        "    if (vegetarian_to_omnivorous + omnivorous_to_vegetarian) == 0:\n",
        "        return 0\n",
        "    else:\n",
        "        # Indice di asimmetria = (differenza / somma totale) tra i flussi di informazioni\n",
        "        return abs(vegetarian_to_omnivorous - omnivorous_to_vegetarian) / (vegetarian_to_omnivorous + omnivorous_to_vegetarian)\n",
        "\n",
        "# Calcolare il numero di archi tra i gruppi e l'indice di asimmetria\n",
        "vegetarian_to_omnivorous, omnivorous_to_vegetarian, total_edges, vegetarian_to_vegetarian, omnivorous_to_omnivorous= count_edges_by_group(G)\n",
        "asymmetry = compute_asymmetry(vegetarian_to_omnivorous, omnivorous_to_vegetarian)\n",
        "\n",
        "print(f\"Archi da vegetariani a onnivori: {vegetarian_to_omnivorous}\")\n",
        "print(f\"Archi da onnivori a vegetariani: {omnivorous_to_vegetarian}\")\n",
        "print(f\"Archi da vegetariani a vegetariani: {vegetarian_to_vegetarian}\")\n",
        "print(f\"Archi da onnivori a onnivori: {omnivorous_to_omnivorous}\")\n",
        "print(f\"Numero totale di archi: {total_edges}\")\n",
        "print(f\"Indice di asimmetria: {asymmetry:.4f}\")\n",
        "\n",
        "num_vegetarian = sum(1 for _, data in G.nodes(data=True) if data.get(\"label\") == \"vegetarian\")\n",
        "num_omnivorous = sum(1 for _, data in G.nodes(data=True) if data.get(\"label\") == \"omnivorous\")\n",
        "\n",
        "print(\"\\n versione riscalata\\n\")\n",
        "print(f\"Archi da vegetariani a onnivori: {vegetarian_to_omnivorous/num_vegetarian}\")\n",
        "print(f\"Archi da onnivori a vegetariani: {omnivorous_to_vegetarian/num_omnivorous}\")\n",
        "print(f\"Archi da vegetariani a vegetariani: {vegetarian_to_vegetarian/num_vegetarian}\")\n",
        "print(f\"Archi da onnivori a onnivori: {omnivorous_to_omnivorous/num_omnivorous}\")\n",
        "\n",
        "# Creare un grafico per visualizzare la distribuzione degli archi tra i gruppi\n",
        "def plot_edge_distribution(vegetarian_to_omnivorous, omnivorous_to_vegetarian):\n",
        "    labels = ['Vegetarian -> Omnivorous', 'Omnivorous -> Vegetarian']\n",
        "    values = [vegetarian_to_omnivorous, omnivorous_to_vegetarian]\n",
        "\n",
        "    plt.bar(labels, values, color=['blue', 'orange'])\n",
        "    plt.title('Distribuzione delle connessioni tra i gruppi')\n",
        "    plt.ylabel('Numero di archi')\n",
        "    plt.show()\n",
        "\n",
        "# Visualizzare la distribuzione degli archi\n",
        "plot_edge_distribution(vegetarian_to_omnivorous, omnivorous_to_vegetarian)\n"
      ],
      "metadata": {
        "colab": {
          "base_uri": "https://localhost:8080/",
          "height": 678
        },
        "id": "Ak-vEj_miigy",
        "outputId": "956eb7e0-ab81-45f8-8923-14289d3af7dd"
      },
      "execution_count": null,
      "outputs": [
        {
          "output_type": "stream",
          "name": "stdout",
          "text": [
            "Archi da vegetariani a onnivori: 11998\n",
            "Archi da onnivori a vegetariani: 11904\n",
            "Archi da vegetariani a vegetariani: 25744\n",
            "Archi da onnivori a onnivori: 11002\n",
            "Numero totale di archi: 60648\n",
            "Indice di asimmetria: 0.0039\n",
            "\n",
            " versione riscalata\n",
            "\n",
            "Archi da vegetariani a onnivori: 1.0939095550692925\n",
            "Archi da onnivori a vegetariani: 1.701300557381735\n",
            "Archi da vegetariani a vegetariani: 2.347191830780452\n",
            "Archi da onnivori a onnivori: 1.57238816635701\n"
          ]
        },
        {
          "output_type": "display_data",
          "data": {
            "text/plain": [
              "<Figure size 640x480 with 1 Axes>"
            ],
            "image/png": "[encoded data removed]"
          },
          "metadata": {}
        }
      ]
    },
    {
      "cell_type": "markdown",
      "source": [],
      "metadata": {
        "id": "tpES6KudZmrf"
      }
    },
    {
      "cell_type": "markdown",
      "metadata": {
        "id": "jJXznfKeZnO_"
      },
      "source": [
        "## Swe/Sav"
      ]
    },
    {
      "cell_type": "markdown",
      "metadata": {
        "id": "RGeFu0HfZnPA"
      },
      "source": [
        "Labeling each node, with a majority rule of posted contents, in vegetarian/omnivorous/unknown"
      ]
    },
    {
      "cell_type": "code",
      "execution_count": null,
      "metadata": {
        "id": "0Qzsl47CZnPB"
      },
      "outputs": [],
      "source": [
        "import networkx as nx\n",
        "import pandas as pd\n",
        "from collections import Counter\n",
        "\n",
        "# Carica il CSV\n",
        "df = pd.read_csv(\"/content/gdrive/MyDrive/dati_sna/sweet_titles_2022_cleaned.csv\")\n",
        "\n",
        "# Troviamo tutte le componenti fortemente connesse (per un grafo diretto)\n",
        "components = list(nx.weakly_connected_components(graph_directed))\n",
        "\n",
        "# Troviamo la componente connessa più grande\n",
        "largest_component = max(components, key=len)\n",
        "\n",
        "# Creiamo un nuovo grafo contenente solo la componente più grande (preservando i pesi)\n",
        "G = graph_directed.subgraph(largest_component).copy()\n",
        "\n",
        "# Crea un dizionario che mappa ogni autore alla classificazione basata su tutte le sue etichette\n",
        "author_labels = {}\n",
        "for author, group in df.groupby(\"author\"):\n",
        "    label_counts = Counter(group[\"classification\"])  # Conta quante volte compaiono vegetarian/omnivorous\n",
        "\n",
        "    veg_count = label_counts.get(\"sweet\", 0)\n",
        "    omni_count = label_counts.get(\"savory\", 0)\n",
        "\n",
        "    # Se il numero di vegetariani è uguale a quello degli omnivori, l'etichetta sarà 'unknown'\n",
        "    if veg_count == omni_count and veg_count > 0:  # Se sono uguali e > 0 → 'unknown'\n",
        "        author_labels[author] = \"unknown\"\n",
        "    else:\n",
        "        # Altrimenti, assegna l'etichetta più frequente\n",
        "        most_common_label = max(label_counts, key=label_counts.get)\n",
        "        author_labels[author] = most_common_label\n",
        "\n",
        "# Assegna le etichette ai nodi del grafo\n",
        "to_remove = []  # Per rimuovere eventuali nodi non presenti nel CSV\n",
        "for node in G.nodes:\n",
        "    if node in author_labels:\n",
        "        G.nodes[node][\"label\"] = author_labels[node]\n",
        "    else:\n",
        "        to_remove.append(node)\n",
        "\n",
        "# Rimuovi nodi che non hanno etichetta\n",
        "G.remove_nodes_from(to_remove)"
      ]
    },
    {
      "cell_type": "markdown",
      "metadata": {
        "id": "fVOpssNMZnPD"
      },
      "source": [
        "Performing label propagation in order to classify the unknown nodes"
      ]
    },
    {
      "cell_type": "code",
      "execution_count": null,
      "metadata": {
        "colab": {
          "base_uri": "https://localhost:8080/"
        },
        "outputId": "4662464f-819e-4f16-c231-ebab977ac73f",
        "id": "BZbYU_jRZnPD"
      },
      "outputs": [
        {
          "output_type": "stream",
          "name": "stdout",
          "text": [
            "Tutti i nodi hanno etichette valide.\n"
          ]
        }
      ],
      "source": [
        "import networkx as nx\n",
        "import random\n",
        "from collections import Counter\n",
        "\n",
        "def label_propagation(G, max_iter=100):\n",
        "    # Iterazione per la propagazione delle etichette\n",
        "    for _ in range(max_iter):\n",
        "        for node in G.nodes:\n",
        "            # Controlla se la label è 'unknown'\n",
        "            if G.nodes[node].get('label', 'unknown') == 'unknown':\n",
        "                # Ottieni le etichette dei vicini (sia predecessori che successori in un grafo diretto)\n",
        "                neighbor_labels = [G.nodes[n]['label'] for n in list(G.successors(node)) + list(G.predecessors(node))\n",
        "                                   if G.nodes[n].get('label', 'unknown') != 'unknown']\n",
        "\n",
        "                if neighbor_labels:\n",
        "                    # Assegna la label più frequente tra i vicini\n",
        "                    most_common_label = Counter(neighbor_labels).most_common(1)[0][0]\n",
        "                    G.nodes[node]['label'] = most_common_label\n",
        "                else:\n",
        "                    # Se non ci sono vicini con etichette, l'etichetta resta 'unknown' o puoi impostarla a una default\n",
        "                    G.nodes[node]['label'] = 'unknown'\n",
        "\n",
        "# Applicare la propagazione delle etichette\n",
        "label_propagation(G)\n",
        "\n",
        "valid_labels = {\"sweet\", \"savory\"}\n",
        "\n",
        "# Estrai tutte le etichette dei nodi\n",
        "node_labels = set(nx.get_node_attributes(G, 'label').values())\n",
        "\n",
        "# Controlla se ci sono solo le etichette attese\n",
        "if node_labels.issubset(valid_labels):\n",
        "    print(\"Tutti i nodi hanno etichette valide.\")\n",
        "else:\n",
        "    print(\"Ci sono etichette non valide:\", node_labels - valid_labels)\n"
      ]
    },
    {
      "cell_type": "code",
      "source": [
        "import networkx as nx\n",
        "import matplotlib.pyplot as plt\n",
        "\n",
        "# Function to count edges between groups\n",
        "def count_edges_by_group(G):\n",
        "    sweet_to_savory = 0\n",
        "    sweet_to_sweet = 0\n",
        "    savory_to_savory = 0\n",
        "    savory_to_sweet = 0\n",
        "    total_edges = 0\n",
        "\n",
        "    for u, v in G.edges():\n",
        "        if G.nodes[u]['label'] == 'sweet' and G.nodes[v]['label'] == 'savory':\n",
        "            sweet_to_savory += 1\n",
        "        if G.nodes[u]['label'] == 'savory' and G.nodes[v]['label'] == 'sweet':\n",
        "            savory_to_sweet += 1\n",
        "        if G.nodes[u]['label'] == 'sweet' and G.nodes[v]['label'] == 'sweet':\n",
        "            sweet_to_sweet += 1\n",
        "        if G.nodes[u]['label'] == 'savory' and G.nodes[v]['label'] == 'savory':\n",
        "            savory_to_savory += 1\n",
        "        total_edges += 1\n",
        "\n",
        "    return sweet_to_savory, savory_to_sweet, total_edges, sweet_to_sweet, savory_to_savory\n",
        "\n",
        "# Function to compute asymmetry index\n",
        "def compute_asymmetry(sweet_to_savory, savory_to_sweet):\n",
        "    if (sweet_to_savory + savory_to_sweet) == 0:\n",
        "        return 0\n",
        "    else:\n",
        "        return abs(sweet_to_savory - savory_to_sweet) / (sweet_to_savory + savory_to_sweet)\n",
        "\n",
        "# Calculate edges between groups and asymmetry index\n",
        "sweet_to_savory, savory_to_sweet, total_edges, sweet_to_sweet, savory_to_savory = count_edges_by_group(G)\n",
        "asymmetry = compute_asymmetry(sweet_to_savory, savory_to_sweet)\n",
        "\n",
        "print(f\"Edges from sweet to savory: {sweet_to_savory}\")\n",
        "print(f\"Edges from savory to sweet: {savory_to_sweet}\")\n",
        "print(f\"Edges from sweet to sweet: {sweet_to_sweet}\")\n",
        "print(f\"Edges from savory to savory: {savory_to_savory}\")\n",
        "print(f\"Total number of edges: {total_edges}\")\n",
        "print(f\"Asymmetry index: {asymmetry:.4f}\")\n",
        "\n",
        "num_sweet = sum(1 for _, data in G.nodes(data=True) if data.get(\"label\") == \"sweet\")\n",
        "num_savory = sum(1 for _, data in G.nodes(data=True) if data.get(\"label\") == \"savory\")\n",
        "\n",
        "print(\"\\n Rescaled version\\n\")\n",
        "print(f\"Edges from sweet to savory (scaled): {sweet_to_savory / num_sweet}\")\n",
        "print(f\"Edges from savory to sweet (scaled): {savory_to_sweet / num_savory}\")\n",
        "print(f\"Edges from sweet to sweet (scaled): {sweet_to_sweet / num_sweet}\")\n",
        "print(f\"Edges from savory to savory (scaled): {savory_to_savory / num_savory}\")\n",
        "\n",
        "# Function to plot edge distribution\n",
        "def plot_edge_distribution(sweet_to_savory, savory_to_sweet):\n",
        "    labels = ['Sweet -> Savory', 'Savory -> Sweet']\n",
        "    values = [sweet_to_savory, savory_to_sweet]\n",
        "\n",
        "    plt.bar(labels, values, color=['blue', 'orange'])\n",
        "    plt.title('Distribution of connections between groups')\n",
        "    plt.ylabel('Number of edges')\n",
        "    plt.show()\n",
        "\n",
        "# Plot the edge distribution\n",
        "plot_edge_distribution(sweet_to_savory, savory_to_sweet)\n",
        "\n"
      ],
      "metadata": {
        "colab": {
          "base_uri": "https://localhost:8080/",
          "height": 678
        },
        "outputId": "0e4f83e9-b33a-49e7-a6cd-7819b1b33698",
        "id": "f_WxkQ1XZnPF"
      },
      "execution_count": null,
      "outputs": [
        {
          "output_type": "stream",
          "name": "stdout",
          "text": [
            "Edges from sweet to savory: 2098\n",
            "Edges from savory to sweet: 4389\n",
            "Edges from sweet to sweet: 766\n",
            "Edges from savory to savory: 53395\n",
            "Total number of edges: 60648\n",
            "Asymmetry index: 0.3532\n",
            "\n",
            " Rescaled version\n",
            "\n",
            "Edges from sweet to savory (scaled): 1.2646172393007835\n",
            "Edges from savory to sweet (scaled): 0.26916472464123636\n",
            "Edges from sweet to sweet (scaled): 0.46172393007836043\n",
            "Edges from savory to savory (scaled): 3.2745615111002087\n"
          ]
        },
        {
          "output_type": "display_data",
          "data": {
            "text/plain": [
              "<Figure size 640x480 with 1 Axes>"
            ],
            "image/png": "[encoded data removed]"
          },
          "metadata": {}
        }
      ]
    },
    {
      "cell_type": "markdown",
      "source": [],
      "metadata": {
        "id": "GZq5SQwWkj3k"
      }
    },
    {
      "cell_type": "markdown",
      "metadata": {
        "id": "571iRtUak4K5"
      },
      "source": [
        "## Ate/Hom"
      ]
    },
    {
      "cell_type": "markdown",
      "metadata": {
        "id": "dfPIzqPnk4LA"
      },
      "source": [
        "Labeling each node, with a majority rule of posted contents, in sweet/savory/unknown"
      ]
    },
    {
      "cell_type": "code",
      "execution_count": null,
      "metadata": {
        "id": "c-tedAzrk4LA"
      },
      "outputs": [],
      "source": [
        "import networkx as nx\n",
        "import pandas as pd\n",
        "from collections import Counter\n",
        "\n",
        "# Carica il file CSV\n",
        "df = pd.read_csv(\"/content/gdrive/MyDrive/dati_sna/tag_titles_2022.csv\")\n",
        "\n",
        "# Sostituisci tutti i \"2\" con \"1\" nella colonna \"classification\"\n",
        "df[\"classification\"] = df[\"classification\"].replace(\"2\", \"1\")\n",
        "\n",
        "# Ignora o rimuove i valori \"unknown\" dalla colonna \"classification\"\n",
        "df = df[df[\"classification\"] != \"unknown\"]\n",
        "\n",
        "# Troviamo tutte le componenti connesse\n",
        "components = list(nx.weakly_connected_components(graph_directed))\n",
        "\n",
        "# Troviamo la componente connessa più grande\n",
        "largest_component = max(components, key=len)\n",
        "\n",
        "# Ora possiamo creare un nuovo grafo che contenga solo la componente più grande\n",
        "G = graph_directed.subgraph(largest_component).copy()\n",
        "\n",
        "# Crea un dizionario che mappa ogni autore alla classificazione più frequente\n",
        "author_labels = {}\n",
        "for author, group in df.groupby(\"author\"):\n",
        "    # Sostituisci i \"2\" con \"1\" (già fatto sopra) e calcola la classificazione più frequente\n",
        "    most_common_label = Counter(group[\"classification\"]).most_common(1)[0][0]\n",
        "    author_labels[author] = most_common_label\n",
        "\n",
        "# Assegna le etichette ai nodi\n",
        "to_remove = []  # Per rimuovere eventuali nodi non presenti nel CSV\n",
        "for node in G.nodes:\n",
        "    if node in author_labels:\n",
        "        G.nodes[node][\"label\"] = author_labels[node]\n",
        "    else:\n",
        "        to_remove.append(node)\n"
      ]
    },
    {
      "cell_type": "markdown",
      "metadata": {
        "id": "AYnDQqyck4LA"
      },
      "source": [
        "Performing label propagation in order to classify the unknown nodes"
      ]
    },
    {
      "cell_type": "code",
      "execution_count": null,
      "metadata": {
        "colab": {
          "base_uri": "https://localhost:8080/"
        },
        "outputId": "8897d9a2-a76f-4026-a3bd-dc7d463c9d29",
        "id": "srnLXurfk4LA"
      },
      "outputs": [
        {
          "output_type": "stream",
          "name": "stdout",
          "text": [
            "Tutti i nodi hanno etichette valide.\n"
          ]
        }
      ],
      "source": [
        "import networkx as nx\n",
        "\n",
        "def label_propagation(G, max_iter=10):\n",
        "    \"\"\"Propaga le etichette nel grafo, assegnando ai nodi 'UNKNOWN' la label più frequente tra i vicini.\"\"\"\n",
        "    for _ in range(max_iter):\n",
        "        for node in G.nodes:\n",
        "            if G.nodes[node]['label'] == 'UNKNOWN':  # Considera solo nodi senza etichetta definita\n",
        "                # Considera sia predecessori (nodi entranti) che successori (nodi uscenti)\n",
        "                neighbor_labels = [\n",
        "                    G.nodes[n]['label']\n",
        "                    for n in set(G.predecessors(node)) | set(G.successors(node))\n",
        "                    if G.nodes[n]['label'] != 'UNKNOWN'\n",
        "                ]\n",
        "\n",
        "                if neighbor_labels:  # Assegna la label più frequente tra i vicini, se disponibile\n",
        "                    G.nodes[node]['label'] = max(set(neighbor_labels), key=neighbor_labels.count)\n",
        "\n",
        "# Applicazione della propagazione delle etichette\n",
        "label_propagation(G)\n",
        "\n",
        "# Definizione delle etichette valide\n",
        "valid_labels = {\"0\", \"1\", \"2\"}\n",
        "\n",
        "# Estrai tutte le etichette assegnate ai nodi\n",
        "node_labels = set(nx.get_node_attributes(G, 'label').values())\n",
        "\n",
        "# Verifica se tutte le etichette sono valide\n",
        "if node_labels.issubset(valid_labels):\n",
        "    print(\"Tutti i nodi hanno etichette valide.\")\n",
        "else:\n",
        "    print(\"Ci sono etichette non valide:\", node_labels - valid_labels)\n"
      ]
    },
    {
      "cell_type": "code",
      "source": [
        "import networkx as nx\n",
        "import matplotlib.pyplot as plt\n",
        "\n",
        "# Funzione per contare i collegamenti tra i gruppi\n",
        "def count_edges_by_group(G):\n",
        "    zero_to_one = 0  # 0 -> 1\n",
        "    zero_to_zero = 0  # 0 -> 0\n",
        "    one_to_one = 0  # 1 -> 1\n",
        "    one_to_zero = 0  # 1 -> 0\n",
        "    total_edges = 0\n",
        "\n",
        "    # Controllo degli edge tra i gruppi\n",
        "    for u, v in G.edges():\n",
        "        if G.nodes[u]['label'] == '0' and G.nodes[v]['label'] == '1':\n",
        "            zero_to_one += 1\n",
        "        if G.nodes[u]['label'] == '1' and G.nodes[v]['label'] == '0':\n",
        "            one_to_zero += 1\n",
        "        if G.nodes[u]['label'] == '0' and G.nodes[v]['label'] == '0':\n",
        "            zero_to_zero += 1\n",
        "        if G.nodes[u]['label'] == '1' and G.nodes[v]['label'] == '1':\n",
        "            one_to_one += 1\n",
        "        total_edges += 1\n",
        "\n",
        "    return zero_to_one, one_to_zero, total_edges, zero_to_zero, one_to_one\n",
        "\n",
        "# Funzione per calcolare l'indice di asimmetria\n",
        "def compute_asymmetry(zero_to_one, one_to_zero):\n",
        "    if (zero_to_one + one_to_zero) == 0:\n",
        "        return 0\n",
        "    else:\n",
        "        return abs(zero_to_one - one_to_zero) / (zero_to_one + one_to_zero)\n",
        "\n",
        "# Calcolare gli edge tra i gruppi e l'indice di asimmetria\n",
        "zero_to_one, one_to_zero, total_edges, zero_to_zero, one_to_one = count_edges_by_group(G)\n",
        "asymmetry = compute_asymmetry(zero_to_one, one_to_zero)\n",
        "\n",
        "print(f\"Edges from 0 to 1: {zero_to_one}\")\n",
        "print(f\"Edges from 1 to 0: {one_to_zero}\")\n",
        "print(f\"Edges from 0 to 0: {zero_to_zero}\")\n",
        "print(f\"Edges from 1 to 1: {one_to_one}\")\n",
        "print(f\"Total number of edges: {total_edges}\")\n",
        "print(f\"Asymmetry index: {asymmetry:.4f}\")\n",
        "\n",
        "# Calcolare la versione ridimensionata\n",
        "num_zero = sum(1 for _, data in G.nodes(data=True) if data.get(\"label\") == \"0\")\n",
        "num_one = sum(1 for _, data in G.nodes(data=True) if data.get(\"label\") == \"1\")\n",
        "\n",
        "print(\"\\n Rescaled version\\n\")\n",
        "print(f\"Edges from 0 to 1 (scaled): {zero_to_one / num_zero}\")\n",
        "print(f\"Edges from 1 to 0 (scaled): {one_to_zero / num_one}\")\n",
        "print(f\"Edges from 0 to 0 (scaled): {zero_to_zero / num_zero}\")\n",
        "print(f\"Edges from 1 to 1 (scaled): {one_to_one / num_one}\")\n",
        "\n",
        "# Funzione per tracciare la distribuzione degli edge\n",
        "def plot_edge_distribution(zero_to_one, one_to_zero):\n",
        "    labels = ['0 -> 1', '1 -> 0']\n",
        "    values = [zero_to_one, one_to_zero]\n",
        "\n",
        "    plt.bar(labels, values, color=['blue', 'orange'])\n",
        "    plt.title('Distribution of connections between groups')\n",
        "    plt.ylabel('Number of edges')\n",
        "    plt.show()\n",
        "\n",
        "# Traccia la distribuzione degli edge\n",
        "plot_edge_distribution(zero_to_one, one_to_zero)\n"
      ],
      "metadata": {
        "colab": {
          "base_uri": "https://localhost:8080/",
          "height": 678
        },
        "id": "TXozIF3_WqEl",
        "outputId": "fd525104-e5ce-4a9a-c797-24b65deb6ce4"
      },
      "execution_count": null,
      "outputs": [
        {
          "output_type": "stream",
          "name": "stdout",
          "text": [
            "Edges from 0 to 1: 8426\n",
            "Edges from 1 to 0: 7531\n",
            "Edges from 0 to 0: 2572\n",
            "Edges from 1 to 1: 42119\n",
            "Total number of edges: 60648\n",
            "Asymmetry index: 0.0561\n",
            "\n",
            " Rescaled version\n",
            "\n",
            "Edges from 0 to 1 (scaled): 2.4373734451836855\n",
            "Edges from 1 to 0 (scaled): 0.5190929142542046\n",
            "Edges from 0 to 0 (scaled): 0.7439976858547874\n",
            "Edges from 1 to 1 (scaled): 2.9031568789633306\n"
          ]
        },
        {
          "output_type": "display_data",
          "data": {
            "text/plain": [
              "<Figure size 640x480 with 1 Axes>"
            ],
            "image/png": "[encoded data removed]"
          },
          "metadata": {}
        }
      ]
    },
    {
      "cell_type": "markdown",
      "source": [
        "## Ethnicity"
      ],
      "metadata": {
        "id": "LtaAa5VcFwJU"
      }
    },
    {
      "cell_type": "code",
      "source": [
        "import networkx as nx\n",
        "import pandas as pd\n",
        "from collections import Counter\n",
        "from google.colab import drive\n",
        "\n",
        "# Caricare Google Drive\n",
        "drive.mount('/content/gdrive')\n",
        "\n",
        "# Carica il CSV\n",
        "df = pd.read_csv(\"/content/gdrive/MyDrive/dati_sna/ethnic_titles_2022_cleaned.csv\")\n",
        "\n",
        "# Troviamo tutte le componenti connesse\n",
        "components = list(nx.weakly_connected_components(graph_directed))\n",
        "\n",
        "# Troviamo la componente connessa più grande\n",
        "largest_component = max(components, key=len)\n",
        "\n",
        "# Creiamo un nuovo grafo contenente solo la componente più grande (preservando i pesi)\n",
        "G = graph_directed.subgraph(largest_component).copy()\n",
        "\n",
        "# Lista delle classificazioni valide\n",
        "valid_classifications = [\"American\", \"Chinese\", \"French\", \"Italian\", \"Mexican\", \"Japanese\", \"Middle\",\n",
        "                         \"British\", \"Indian\", \"Greek\", \"Korean\", \"German\", \"Spanish\", \"Vietnamese\",\n",
        "                         \"Asian\", \"Russian\", \"Caribbean\", \"Hawaiian\", \"African\", \"Brazilian\", \"Turkish\",\n",
        "                         \"Polish\", \"Jewish\", \"Latin\", \"Irish\", \"Southeast\", \"Australian\", \"Thai\", \"Canadian\",\n",
        "                         \"Swedish\", \"Filipino\", \"Scottish\", \"Portuguese\", \"Peruvian\", \"Hungarian\", \"Dutch\",\n",
        "                         \"Scandinavian\", \"Georgian\", \"Ukrainian\", \"Ethiopian\", \"Belgian\", \"Swiss\", \"Jamaican\",\n",
        "                         \"Cuban\", \"Persian\", \"Argentine\", \"Romanian\", \"Czech\", \"Iranian\", \"Danish\",\n",
        "                         \"Austrian\", \"Norwegian\", \"Colombian\"]\n",
        "\n",
        "# Crea un dizionario che mappa ogni autore alla classificazione basata su tutte le sue etichette\n",
        "author_labels = {}\n",
        "for author, group in df.groupby(\"author\"):\n",
        "    label_counts = Counter(group[\"classification\"])\n",
        "\n",
        "    # Conta le occorrenze delle classificazioni valide\n",
        "    valid_counts = {label: label_counts.get(label, 0) for label in valid_classifications}\n",
        "\n",
        "    # Se ci sono più etichette con lo stesso numero di occorrenze, assegna \"unknown\"\n",
        "    if len(set(valid_counts.values())) == 1 and sum(valid_counts.values()) > 0:\n",
        "        author_labels[author] = \"unknown\"\n",
        "    else:\n",
        "        # Altrimenti, assegna l'etichetta più frequente\n",
        "        most_common_label = max(valid_counts, key=valid_counts.get)\n",
        "        author_labels[author] = most_common_label\n",
        "\n",
        "# Assegna le etichette ai nodi del grafo\n",
        "to_remove = []  # Per rimuovere eventuali nodi non presenti nel CSV\n",
        "for node in G.nodes:\n",
        "    if node in author_labels:\n",
        "        G.nodes[node][\"label\"] = author_labels[node]\n",
        "    else:\n",
        "        to_remove.append(node)\n",
        "\n",
        "# Rimuovi nodi che non hanno etichetta\n",
        "G.remove_nodes_from(to_remove)\n",
        "\n",
        "print(\"Etichette assegnate alla componente più grande del grafo.\")\n"
      ],
      "metadata": {
        "colab": {
          "base_uri": "https://localhost:8080/"
        },
        "outputId": "0aed4a3c-9cf2-4d58-8486-62d67ccf63c5",
        "id": "NstWV_1rFwJf"
      },
      "execution_count": null,
      "outputs": [
        {
          "output_type": "stream",
          "name": "stdout",
          "text": [
            "Drive already mounted at /content/gdrive; to attempt to forcibly remount, call drive.mount(\"/content/gdrive\", force_remount=True).\n",
            "Etichette assegnate alla componente più grande del grafo.\n"
          ]
        }
      ]
    },
    {
      "cell_type": "code",
      "source": [
        "import networkx as nx\n",
        "import random\n",
        "\n",
        "# Definizione della funzione di propagazione delle etichette\n",
        "def label_propagation(G, max_iter=10):\n",
        "    for _ in range(max_iter):\n",
        "        for node in G.nodes:\n",
        "            if G.nodes[node]['label'] == 'unknown':\n",
        "                neighbor_labels = [G.nodes[n]['label'] for n in G.neighbors(node) if G.nodes[n]['label'] != 'unknown']\n",
        "                if neighbor_labels:\n",
        "                    # Assegna la label più frequente tra i vicini\n",
        "                    G.nodes[node]['label'] = max(set(neighbor_labels), key=neighbor_labels.count)\n",
        "\n",
        "# Applicare la propagazione delle etichette\n",
        "label_propagation(G)\n",
        "\n",
        "valid_labels = {\"American\", \"Chinese\", \"French\", \"Italian\", \"Mexican\", \"Japanese\", \"Middle\",\n",
        "                \"British\", \"Indian\", \"Greek\", \"Korean\", \"German\", \"Spanish\", \"Vietnamese\",\n",
        "                \"Asian\", \"Russian\", \"Caribbean\", \"Hawaiian\", \"African\", \"Brazilian\", \"Turkish\",\n",
        "                \"Polish\", \"Jewish\", \"Latin\", \"Irish\", \"Southeast\", \"Australian\", \"Thai\", \"Canadian\",\n",
        "                \"Swedish\", \"Filipino\", \"Scottish\", \"Portuguese\", \"Peruvian\", \"Hungarian\", \"Dutch\",\n",
        "                \"Scandinavian\", \"Georgian\", \"Ukrainian\", \"Ethiopian\", \"Belgian\", \"Swiss\", \"Jamaican\",\n",
        "                \"Cuban\", \"Persian\", \"Argentine\", \"Romanian\", \"Czech\", \"Iranian\", \"Danish\",\n",
        "                \"Austrian\", \"Norwegian\", \"Colombian\"}\n",
        "\n",
        "# Estrai tutte le etichette dei nodi\n",
        "node_labels = set(nx.get_node_attributes(G, 'label').values())\n",
        "\n",
        "# Controlla se ci sono solo le etichette attese\n",
        "if node_labels.issubset(valid_labels):\n",
        "    print(\"Tutti i nodi hanno etichette valide.\")\n",
        "else:\n",
        "    print(\"Ci sono etichette non valide:\", node_labels - valid_labels)"
      ],
      "metadata": {
        "colab": {
          "base_uri": "https://localhost:8080/"
        },
        "outputId": "1cebe820-e97e-4779-b57d-089c7ccc7b53",
        "id": "ByCzdL7hFwJf"
      },
      "execution_count": null,
      "outputs": [
        {
          "output_type": "stream",
          "name": "stdout",
          "text": [
            "Tutti i nodi hanno etichette valide.\n"
          ]
        }
      ]
    },
    {
      "cell_type": "code",
      "source": [
        "import networkx as nx\n",
        "import seaborn as sns\n",
        "import matplotlib.pyplot as plt\n",
        "import numpy as np\n",
        "\n",
        "# Extract unique node labels\n",
        "unique_labels = sorted(set(nx.get_node_attributes(G, \"label\").values()))\n",
        "\n",
        "# Create a dictionary mapping labels to matrix indices\n",
        "label_to_index = {label: i for i, label in enumerate(unique_labels)}\n",
        "\n",
        "# Count the number of nodes for each label\n",
        "label_counts = {label: sum(1 for n in G.nodes if G.nodes[n].get(\"label\") == label) for label in unique_labels}\n",
        "\n",
        "# Initialize the matrix for counting links between categories\n",
        "matrix = np.zeros((len(unique_labels), len(unique_labels)))\n",
        "\n",
        "# Count the links between categories and rescale them\n",
        "for u, v in G.edges():\n",
        "    u_label = G.nodes[u].get(\"label\")\n",
        "    v_label = G.nodes[v].get(\"label\")\n",
        "\n",
        "    if u_label in label_to_index and v_label in label_to_index and label_counts[u_label] > 0:\n",
        "        matrix[label_to_index[u_label], label_to_index[v_label]] += 1\n",
        "\n",
        "# Rescale the values by dividing by the number of nodes in the source category\n",
        "for i, label in enumerate(unique_labels):\n",
        "    if label_counts[label] > 0:\n",
        "        matrix[i, :] /= label_counts[label]\n",
        "\n",
        "# Create the heatmap without numbers\n",
        "plt.figure(figsize=(12, 10))\n",
        "sns.heatmap(matrix, cmap=\"Blues\", annot=False, cbar=True,\n",
        "            xticklabels=unique_labels, yticklabels=unique_labels)\n",
        "\n",
        "# Improve layout\n",
        "plt.title(\"Heatmap of Links Between Node Categories (Rescaled)\")\n",
        "plt.xlabel(\"Target Category\")\n",
        "plt.ylabel(\"Source Category\")\n",
        "plt.xticks(rotation=90, fontsize=8)\n",
        "plt.yticks(fontsize=8)\n",
        "\n",
        "plt.show()\n"
      ],
      "metadata": {
        "colab": {
          "base_uri": "https://localhost:8080/",
          "height": 933
        },
        "id": "ZEElua7xGNKq",
        "outputId": "1f0ca03a-745b-49c0-b282-82264a93d84a"
      },
      "execution_count": null,
      "outputs": [
        {
          "output_type": "display_data",
          "data": {
            "text/plain": [
              "<Figure size 1200x1000 with 2 Axes>"
            ],
            "image/png": "[encoded data removed]"
          },
          "metadata": {}
        }
      ]
    },
    {
      "cell_type": "code",
      "source": [
        "import networkx as nx\n",
        "import seaborn as sns\n",
        "import matplotlib.pyplot as plt\n",
        "import numpy as np\n",
        "\n",
        "# Extract node labels (ethnicities)\n",
        "node_labels = nx.get_node_attributes(G, \"label\")\n",
        "\n",
        "# Count occurrences of each ethnicity\n",
        "label_counts = {}\n",
        "for label in node_labels.values():\n",
        "    label_counts[label] = label_counts.get(label, 0) + 1\n",
        "\n",
        "# Select the top 10 ethnicities with the most nodes\n",
        "top_labels = sorted(label_counts, key=label_counts.get, reverse=True)[:10]\n",
        "\n",
        "# Filter nodes that belong to the top 10 ethnicities\n",
        "filtered_nodes = {n for n in G.nodes if G.nodes[n].get(\"label\") in top_labels}\n",
        "\n",
        "# Create a mapping of selected labels to matrix indices\n",
        "label_to_index = {label: i for i, label in enumerate(top_labels)}\n",
        "\n",
        "# Initialize adjacency matrix\n",
        "matrix = np.zeros((len(top_labels), len(top_labels)))\n",
        "\n",
        "# Count edges between selected ethnicities and rescale\n",
        "for u, v in G.edges():\n",
        "    u_label = G.nodes[u].get(\"label\")\n",
        "    v_label = G.nodes[v].get(\"label\")\n",
        "\n",
        "    if u_label in label_to_index and v_label in label_to_index:\n",
        "        matrix[label_to_index[u_label], label_to_index[v_label]] += 1\n",
        "\n",
        "# Normalize by the number of nodes in the source category\n",
        "for i, label in enumerate(top_labels):\n",
        "    if label_counts[label] > 0:\n",
        "        matrix[i, :] /= label_counts[label]\n",
        "\n",
        "# Plot heatmap without numbers\n",
        "plt.figure(figsize=(12, 10))\n",
        "sns.heatmap(matrix, cmap=\"Blues\", annot=False, cbar=True,\n",
        "            xticklabels=top_labels, yticklabels=top_labels)\n",
        "\n",
        "# Improve layout\n",
        "plt.title(\"Heatmap of Links Between Top 10 Ethnicities (Rescaled)\")\n",
        "plt.xlabel(\"Target Ethnicity\")\n",
        "plt.ylabel(\"Source Ethnicity\")\n",
        "plt.xticks(rotation=90, fontsize=8)\n",
        "plt.yticks(fontsize=8)\n",
        "\n",
        "plt.show()\n"
      ],
      "metadata": {
        "colab": {
          "base_uri": "https://localhost:8080/",
          "height": 911
        },
        "id": "vLO5wEyFH9hM",
        "outputId": "9a50a163-f29c-4b26-93c5-a555483fb4dc"
      },
      "execution_count": null,
      "outputs": [
        {
          "output_type": "display_data",
          "data": {
            "text/plain": [
              "<Figure size 1200x1000 with 2 Axes>"
            ],
            "image/png": "[encoded data removed]"
          },
          "metadata": {}
        }
      ]
    }
  ],
  "metadata": {
    "colab": {
      "collapsed_sections": [
        "2VtSRHufHYK0",
        "W1yCcDdns6PI"
      ],
      "provenance": [],
      "toc_visible": true
    },
    "kernelspec": {
      "display_name": "Python 3",
      "name": "python3"
    },
    "language_info": {
      "name": "python"
    }
  },
  "nbformat": 4,
  "nbformat_minor": 0
}